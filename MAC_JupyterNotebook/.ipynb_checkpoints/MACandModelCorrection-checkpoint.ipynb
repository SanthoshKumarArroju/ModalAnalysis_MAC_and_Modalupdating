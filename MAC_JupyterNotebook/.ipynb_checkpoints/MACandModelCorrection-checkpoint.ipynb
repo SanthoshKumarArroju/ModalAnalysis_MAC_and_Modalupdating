{
 "cells": [
  {
   "cell_type": "markdown",
   "metadata": {
    "collapsed": true,
    "scrolled": true
   },
   "source": [
    "# MAC and Model Correction or Updating of the FE models using Test Data\n",
    "#### By Sainag Immidisetty\n",
    "\n",
    "\n",
    "\n",
    "\n"
   ]
  },
  {
   "cell_type": "markdown",
   "metadata": {},
   "source": [
    "##### Purpose of bridging the gap between Testing and FE-Simulation:\n",
    "\n",
    "Product development process have been modifying every now and then, at present most of the companies don't use simulation unless they first establish trust. So, first preference is given to validation at the test condition to use the right modeling techniques in simulation so that the variations can be looked at and the model could be used for development a head of time to see certain phenomenon that would replicate real world. "
   ]
  },
  {
   "cell_type": "markdown",
   "metadata": {},
   "source": [
    "## The Wing Structure:\n",
    "\n",
    "Length, Width, Thickness and Airfoil profile coordinates were collected from this Structure to create a FE-models:\n",
    "\n",
    "\n",
    "![alt](img/image[4].jpeg)"
   ]
  },
  {
   "cell_type": "markdown",
   "metadata": {},
   "source": [
    "## FE-Models:\n",
    "Three wing models were studied using Beam Elements, Brick Elements, and SHELL elements. "
   ]
  },
  {
   "cell_type": "markdown",
   "metadata": {},
   "source": [
    "### Beam Element model: \n",
    "\n",
    "A Matlab code was developed to solve different problems using 3D beam/rod/torsion element inside WFEM module by simply creating an input file.  The following were the resultant natural frequencies and mode shapes:\n",
    "\n",
    "\n",
    "\n",
    "\n",
    "![alt](img/Beammodelmode1.jpg) | ![alt](img/Beammodelmode2.jpg) | ![alt](img/Beammodelmode3.jpg) | \n",
    "![alt](img/Beammodelmode4.jpg) | ![alt](img/Beammodelmode5.jpg) | ![alt](img/Beammodelmode6.jpg)\n",
    "\n",
    "\n",
    "### Brick Element model:\n",
    "\n",
    "Similar to Beam code, an 8 noded Brick element was developed. The following are results obtained:\n",
    "\n",
    "\n",
    "\n",
    "![alt](img/Brickmodelmode1.jpg) | ![alt](img/Brickmodelmode2.jpg) | ![alt](img/Brickmodelmode3.jpg) \n",
    "\n",
    "![alt](img/Brickmodelmode4.jpg) | ![alt](img/Brickmodelmode5.jpg) | ![alt](img/Brickmodelmode6.jpg)\n",
    "\n"
   ]
  },
  {
   "cell_type": "markdown",
   "metadata": {},
   "source": [
    "### Observations:\n",
    "\n",
    "1. Beam model gave better results with lesser mesh compared to Brick model. Thereby saving computational time."
   ]
  },
  {
   "cell_type": "markdown",
   "metadata": {},
   "source": [
    "## Physical Testing of the model:\n",
    "\n",
    "FRF data was collected at 18 points on the wing using NIMAX and Bobcat DAQs. An open source experimental modal analysis software called \"OpenModal\" was used only to animate the mode shapes but original characteristics of each mode were extracted by using Multiple degree of freedom curve fitting. Animated mode shapes:\n",
    "\n",
    "\n",
    "![alt](img/Testmode1.png) | ![alt](img/Testmode2.png) | ![alt](img/Testmode3.png) | ![alt](img/Testmode4.png) | ![alt](img/Testmode5.png) | ![alt](img/Testmode6.png)"
   ]
  },
  {
   "cell_type": "markdown",
   "metadata": {},
   "source": [
    "## MAC:"
   ]
  },
  {
   "cell_type": "markdown",
   "metadata": {},
   "source": [
    "The Modal Assurance Criterion (MAC) analysis is used to determine the similarity of two mode shapes:\n",
    "\n",
    "* If the mode shapes are identical (i.e., all points move the same) the MAC will have a value of one or 100%. \n",
    "* If the mode shapes are very different, the MAC value will be close to zero.\n",
    " \n",
    "*Note: A MAC analysis is only looking at the mode shape, it does not compare the frequency value.* \n",
    " \n",
    "### MAC Equation:\n",
    " \n",
    "The MAC value between two modes is essentially the normalized dot product of the complex modal vector at each common nodes (i.e., points), as shown in Equation.  It can also be thought of as the square of correlation between two modal vectors φr and φs. Equation below is the Modal Assurance Criterion equation for comparing two mode shapes:\n",
    "\n",
    "\n",
    "\n",
    "![alt](img/image.png)\n",
    "\n",
    "\n",
    "If a linear relationship exists (i.e., the vectors move the same way) between the two complex vectors, the MAC value will be near to one. If they are linearly independent, the MAC value will be small (near zero).\n",
    " \n",
    "A complex vector simply includes both amplitude and phase, whereas a real vector is real part only. In Equation, it is also clear that the MAC is not sensitive to scaling, so if all mode shape components are multiplied with the same factor, the MAC will not be affected.\n",
    "\n",
    "If an experimental modal analysis had 18 different nodes where measurements were made, the mode shape components at all 18 nodes are taken into account to calculate the MAC value, but more importance will be attributed to the higher amplitude node locations.\n",
    "             \n",
    "### Uses:\n",
    " \n",
    "A Modal Assurance Criterion (or MAC) analysis can be used in several different ways:\n",
    " \n",
    "* Test-Test comparison – A MAC analysis can flag potential issues with the modal analysis results. Usually MAC will identify modes and areas that could benefit from acquiring more data points on the structure.\n",
    "* FEA-FEA comparison – Several assumptions can be made in the creation of a FEA analysis: Young’s Modulus, boundary conditions, and mass density values to name a few. A MAC analysis can determine the degree to which these assumptions affect the resulting mode shapes.\n",
    "* FEA-Test comparison – A MAC can be used to compare modes from an experimental modal analysis test to a Finite Element Analysis (FEA). It will indicate if the same mode shapes are found in both the test and FEA analysis."
   ]
  },
  {
   "cell_type": "code",
   "execution_count": 1,
   "metadata": {
    "collapsed": true
   },
   "outputs": [],
   "source": [
    "%load_ext autoreload\n",
    "%autoreload 2\n",
    "%matplotlib inline\n",
    "import vibrationtesting as vt\n",
    "from vibrationtesting import sos_modal\n",
    "import matplotlib.pyplot as plt\n",
    "import scipy\n",
    "import numpy as np\n",
    "import scipy.io as sio\n",
    "import array_to_latex as a2t\n",
    "from scipy.sparse import *\n",
    "np.set_printoptions(precision = 9, linewidth = 220, suppress = True)"
   ]
  },
  {
   "cell_type": "markdown",
   "metadata": {},
   "source": [
    "### Resulting Eigen Vectors from Testing:\n",
    "\n",
    "Here, considered the case of an experimental modal analysis performed on a wing, suspended free on one end and clamped on the other. Frequency Response Function (FRF) data was acquired at 18 locations on the wing. The FRF data was analyzed and a mode set extracted. "
   ]
  },
  {
   "cell_type": "code",
   "execution_count": 2,
   "metadata": {
    "collapsed": true
   },
   "outputs": [],
   "source": [
    "mat_contents=sio.loadmat('Modeshapedata/1stNaturalFreq15.mat')\n",
    "U1 = mat_contents['U1']\n",
    "mat_contents=sio.loadmat('Modeshapedata/2ndNaturalFreq15.mat')\n",
    "U2 = mat_contents['U2']\n",
    "mat_contents=sio.loadmat('Modeshapedata/3rdNaturalFreq15.mat')\n",
    "U3 = mat_contents['U3']\n",
    "mat_contents=sio.loadmat('Modeshapedata/4rthNaturalFreq15.mat')\n",
    "U4 = mat_contents['U4']\n",
    "mat_contents=sio.loadmat('Modeshapedata/5thNaturalFreq15.mat')\n",
    "U5 = mat_contents['U5']\n",
    "mat_contents=sio.loadmat('Modeshapedata/6thNaturalFreq15.mat')\n",
    "U6 = mat_contents['U6']\n",
    "Psi_1 = np.array(U1)\n",
    "Psi_2 = np.array(U2)\n",
    "Psi_3 = np.array(U3)\n",
    "Psi_4 = np.array(U4)\n",
    "Psi_5 = np.array(U5)\n",
    "Psi_6 = np.array(U6)\n",
    "Psi_1=np.column_stack((Psi_1,Psi_2,Psi_3,Psi_4,Psi_5,Psi_6))\n",
    "Psi_abs = np.abs(Psi_1)*np.real(np.sign(Psi_1))\n",
    "Psi_1 = Psi_abs"
   ]
  },
  {
   "cell_type": "markdown",
   "metadata": {},
   "source": [
    "### Test-Test Comparison:\n",
    "\n",
    "The important thing to remember while we do modal analysis is that, when we have some sort of a structure, then we need to know how many points along the structure to test. For instance, initially, the wing structure was tested taking a guess of number of points as nine to capture all of our mode shapes accurately, however, it was noticed that the modes seen essentially looks like rigid body motion at higher frequencies.\n",
    "\n",
    "It is quite similar to aliasing, when we think about reading in frequencies where we did not sample high enough, but here its about not considering enough points on the structure. So, one way to check that enough points were used to accurately capture all versus different mode shapes by using something called the MAC matrix."
   ]
  },
  {
   "cell_type": "code",
   "execution_count": 3,
   "metadata": {},
   "outputs": [
    {
     "data": {
      "text/plain": [
       "array([[ 1.         ,  0.012878134,  0.024564134,  0.021402321,  0.04530025 ,  0.00297411 ],\n",
       "       [ 0.012878134,  1.         ,  0.05357427 ,  0.003010583,  0.008900821,  0.01555768 ],\n",
       "       [ 0.024564134,  0.05357427 ,  1.         ,  0.002131827,  0.162034548,  0.00183518 ],\n",
       "       [ 0.021402321,  0.003010583,  0.002131827,  1.         ,  0.000965057,  0.020653144],\n",
       "       [ 0.04530025 ,  0.008900821,  0.162034548,  0.000965057,  1.         ,  0.000017919],\n",
       "       [ 0.00297411 ,  0.01555768 ,  0.00183518 ,  0.020653144,  0.000017919,  1.         ]])"
      ]
     },
     "execution_count": 3,
     "metadata": {},
     "output_type": "execute_result"
    }
   ],
   "source": [
    "vt.mac(Psi_1,Psi_1)"
   ]
  },
  {
   "cell_type": "markdown",
   "metadata": {},
   "source": [
    "Acquiring an additional 9 points leads to better results.  With 18 total points, the mode shapes look completely different. So, with less response points, the spatial aliasing error was created.\n",
    "\n",
    "*Note: The term used of \"not enough response points\" is called \"Spacial Aliasing\".*\n",
    "\n",
    "In the above case, this is a mode set compared to itself.  The mode set contains six different individual modes, so 36 different MAC values are being calculated. About half the values are redundant –e.g., the MAC value between mode 1 and 3 is the same as between mode 3 and 1.\n",
    "\n",
    "The first mode shape at 13 Hz is identical to itself, hence a value of 1. Along the diagonal, every mode is identical to itself, 1 to 1 (13 Hz), 2 to 2 (51 Hz), 3 to 3 (121 Hz), etc.\n",
    "\n",
    "Off of the diagonal, the MAC values are very low.  Ideally, each mode should be uniquely observed and have a different shape than the other modes.  This is the case for this mode set.  The highest off diagonal mode pair is mode 5 compared to mode 3 (and vice versa 3 to 5) with a MAC value of 16%. All the other off-diagonal mode pairs are below 16%. \n",
    "\n",
    "In experimental modal analysis, the data measured in the 9 point modal analysis is not \"wrong\". The FRF measurements at these nodes were no different in the 9 point modal versus the 18 point, since the physical structure being tested did not change.  There was simply not enough measurement points to determine the complete mode shape.  This is different than a Finite Element modal analysis were the number of nodes does determine the dynamic behavior."
   ]
  },
  {
   "cell_type": "markdown",
   "metadata": {
    "collapsed": true,
    "heading_collapsed": true
   },
   "source": [
    "### Extension of modes from Modal Analysis to All DOF of a Finite Element Model after applying Guyan reduction:\n",
    "\n",
    "Only guyan reduction was applied on the full M and K from the created model using WFEM module(Matlab) to reduce the M and K matrix. SEREP could be applied to reduce the M and K matrices further, however, in this case it would not give accurate results as only 6 mode shapes are retained which would result in a very small 6x6 sized M and K matrices."
   ]
  },
  {
   "cell_type": "code",
   "execution_count": 4,
   "metadata": {
    "collapsed": true,
    "hidden": true
   },
   "outputs": [],
   "source": [
    "mat_contents=sio.loadmat('FEmodaldata/WingBeamforMAC.mat')\n",
    "K = (mat_contents['Kr'])\n",
    "M = (mat_contents['Mr'])\n",
    "Kbm = K.todense()\n",
    "Mbm = M.todense()\n",
    "omega, zeta, PsiBM = vt.sos_modal(Mbm, Kbm)\n",
    "measured = np.array([[1,6,11,16,21,26,31,36,41,46,51,56,61,66,71]])\n",
    "omega=np.array([omega[0], omega[1], omega[3], omega[4], omega[5], omega[6]])\n",
    "Psi_fullBM=vt.mode_expansion_from_model(Psi_1, omega, Mbm, Kbm, measured)"
   ]
  },
  {
   "cell_type": "code",
   "execution_count": 5,
   "metadata": {
    "collapsed": true
   },
   "outputs": [],
   "source": [
    "mat_contents=sio.loadmat('FEmodaldata/WingBrickmuchMorMeshedforMAC1.mat')\n",
    "K = (mat_contents['Kr'])\n",
    "M = (mat_contents['Mr'])\n",
    "Kbr = K.todense()\n",
    "Mbr = M.todense()\n",
    "omega, zeta, PsiBR = vt.sos_modal(Mbr, Kbr)\n",
    "measured = np.array([[350, 347, 344, 278, 275, 272, 206, 203, 200, 134, 131, 128, 62, 59, 56]])\n",
    "omega=np.array([omega[0], omega[1], omega[3], omega[4], omega[5], omega[6]])\n",
    "Psi_fullBR=vt.mode_expansion_from_model(Psi_1, omega, Mbr, Kbr, measured)"
   ]
  },
  {
   "cell_type": "markdown",
   "metadata": {},
   "source": [
    "So, the alternative to reducing the matrices from the finite element model is to expand the measured mode shape vectors to estimate the data at unmeasured locations. Expanding the measured data invariably involves using the finite element model to fill in the missing data. The vibration testing module in python has the function mode_expansion_from_model which does the expansion process for us."
   ]
  },
  {
   "cell_type": "markdown",
   "metadata": {},
   "source": [
    "### Resulting eigen vectors from FE model:"
   ]
  },
  {
   "cell_type": "code",
   "execution_count": 6,
   "metadata": {
    "collapsed": true
   },
   "outputs": [],
   "source": [
    "Psi_1 = PsiBM\n",
    "mode1=Psi_1[:,0]\n",
    "mode2=Psi_1[:,1]\n",
    "mode3=Psi_1[:,3]\n",
    "mode4=Psi_1[:,4]\n",
    "mode5=Psi_1[:,5]\n",
    "mode6=Psi_1[:,6]\n",
    "Psi_2BM= np.column_stack((mode1, mode2, mode3, mode4, mode5, mode6))"
   ]
  },
  {
   "cell_type": "code",
   "execution_count": 7,
   "metadata": {
    "collapsed": true
   },
   "outputs": [],
   "source": [
    "Psi_1 = PsiBR\n",
    "mode1=Psi_1[:,0]\n",
    "mode2=Psi_1[:,1]\n",
    "mode3=Psi_1[:,3]\n",
    "mode4=Psi_1[:,4]\n",
    "mode5=Psi_1[:,5]\n",
    "mode6=Psi_1[:,6]\n",
    "Psi_2BR= np.column_stack((mode1, mode2, mode3, mode4, mode5, mode6))"
   ]
  },
  {
   "cell_type": "markdown",
   "metadata": {},
   "source": [
    "### FE-FE comparison: \n",
    "\n",
    "The below off-diagonal MAC values tell how bad the assumptions made were. We can observe that off-diagonal terms for the Brick model look better because of more mesh. "
   ]
  },
  {
   "cell_type": "code",
   "execution_count": 10,
   "metadata": {},
   "outputs": [
    {
     "data": {
      "text/plain": [
       "array([[ 1.         ,  0.28416901 ,  0.172196744,  0.         ,  0.132407293,  0.         ],\n",
       "       [ 0.28416901 ,  1.         ,  0.371274112,  0.         ,  0.235979076,  0.         ],\n",
       "       [ 0.172196744,  0.371274112,  1.         ,  0.         ,  0.379744752,  0.         ],\n",
       "       [ 0.         ,  0.         ,  0.         ,  1.         ,  0.         ,  0.240949039],\n",
       "       [ 0.132407293,  0.235979076,  0.379744752,  0.         ,  1.         ,  0.         ],\n",
       "       [ 0.         ,  0.         ,  0.         ,  0.240949039,  0.         ,  1.         ]])"
      ]
     },
     "execution_count": 10,
     "metadata": {},
     "output_type": "execute_result"
    }
   ],
   "source": [
    "vt.mac(Psi_2BM,Psi_2BM)"
   ]
  },
  {
   "cell_type": "code",
   "execution_count": 11,
   "metadata": {},
   "outputs": [
    {
     "data": {
      "text/plain": [
       "array([[ 1.         ,  0.122984639,  0.041348987,  0.         ,  0.026004283,  0.         ],\n",
       "       [ 0.122984639,  1.         ,  0.157153609,  0.         ,  0.060581719,  0.         ],\n",
       "       [ 0.041348987,  0.157153609,  1.         ,  0.         ,  0.168759104,  0.         ],\n",
       "       [ 0.         ,  0.         ,  0.         ,  1.         ,  0.         ,  0.10115887 ],\n",
       "       [ 0.026004283,  0.060581719,  0.168759104,  0.         ,  1.         ,  0.         ],\n",
       "       [ 0.         ,  0.         ,  0.         ,  0.10115887 ,  0.         ,  1.         ]])"
      ]
     },
     "execution_count": 11,
     "metadata": {},
     "output_type": "execute_result"
    }
   ],
   "source": [
    "vt.mac(Psi_2BR,Psi_2BR)"
   ]
  },
  {
   "cell_type": "markdown",
   "metadata": {},
   "source": [
    "###  FE-Test Comparison:\n",
    "\n",
    "After collecting Frequency Response Functions (FRFs) on the wing, a MAC analysis was done between the first six experimental test modes and the first six finite element analysis modes.  The results are shown below."
   ]
  },
  {
   "cell_type": "code",
   "execution_count": 12,
   "metadata": {},
   "outputs": [
    {
     "data": {
      "text/plain": [
       "array([[ 0.902776121,  0.08397938 ,  0.133234332,  0.000280447,  0.069636931,  0.000567165],\n",
       "       [ 0.157055975,  0.892874372,  0.1246398  ,  0.000251338,  0.095492976,  0.000255381],\n",
       "       [ 0.029469884,  0.217923327,  0.896786436,  0.000113918,  0.154537904,  0.000015324],\n",
       "       [ 0.009130519,  0.00258551 ,  0.001044216,  0.10351289 ,  0.00068626 ,  0.087508   ],\n",
       "       [ 0.071166016,  0.067331544,  0.34484064 ,  0.000039387,  0.854315037,  0.000332692],\n",
       "       [ 0.007015925,  0.009076935,  0.000333458,  0.899795777,  0.001109486,  0.124936721]])"
      ]
     },
     "execution_count": 12,
     "metadata": {},
     "output_type": "execute_result"
    }
   ],
   "source": [
    "vt.mac(Psi_fullBM,Psi_2BM)"
   ]
  },
  {
   "cell_type": "code",
   "execution_count": 13,
   "metadata": {},
   "outputs": [
    {
     "data": {
      "text/plain": [
       "array([[ 0.419687707,  0.000826393,  0.002039278,  0.000059746,  0.004514538,  0.000070361],\n",
       "       [ 0.010436219,  0.383714861,  0.000050142,  0.000000193,  0.001243138,  0.000022064],\n",
       "       [ 0.038379026,  0.000165336,  0.299634258,  0.000027009,  0.000093382,  0.000075664],\n",
       "       [ 0.017322709,  0.001122434,  0.000278439,  0.492081088,  0.000266308,  0.014127599],\n",
       "       [ 0.013926318,  0.069706433,  0.002956606,  0.000573113,  0.236123559,  0.000164655],\n",
       "       [ 0.004917083,  0.007407191,  0.003720332,  0.005166634,  0.000011543,  0.428847769]])"
      ]
     },
     "execution_count": 13,
     "metadata": {},
     "output_type": "execute_result"
    }
   ],
   "source": [
    "vt.mac(Psi_fullBR,Psi_2BR)"
   ]
  },
  {
   "cell_type": "markdown",
   "metadata": {},
   "source": [
    "Looking at the diagonal and off-diagonal of the MAC matrix:\n",
    "\n",
    "Beam model observations: \n",
    "\n",
    "* Diagonal MAC values are not 100%, because the two sets of modes are not identical.\n",
    "* Modes 4 and 6 are less than 25%, the reason being torsional modes.\n",
    "* The highest off diagonal mode pair is mode 5 compared to mode 3 (and vice versa 3 to 5) with a MAC value of 34%. All the other off-diagonal mode pairs are below 16%.\n",
    "\n",
    "Brick model:\n",
    "\n",
    "* Diagonal MAC values are not even 50%, may be because the mode shape locations did not match well.\n",
    "* Similar to the Beam model, torsional modes have very less diagonal MAC values. \n",
    "* The highest off diagonal mode pair is mode 1 compared to mode 3 (and vice versa 3 to 1) with a MAC value of 3%. All the other off-diagonal mode pairs are below 3%.\n",
    "\n",
    "In this case, the MAC analysis indicates that there is room for improvement in the correlation of the test and FEA. This \n",
    "can be done by correcting the M and K from FE model using 'Baruch' method"
   ]
  },
  {
   "cell_type": "markdown",
   "metadata": {},
   "source": [
    "### FE Beam model Correction:\n",
    "\n",
    "Baruch method of model correction is a Direct model updating Technique using modal data. This can be simply be performed using the model_correction_direct function in the vibration testing module in Python.\n"
   ]
  },
  {
   "cell_type": "code",
   "execution_count": 14,
   "metadata": {
    "collapsed": true
   },
   "outputs": [],
   "source": [
    "omega=np.array([13.54, 51.81, 125.19, 167.76, 228.05, 328.41])\n",
    "Mc, Kc = vt.model_correction_direct(Psi_fullBM, omega, Mbm, Kbm, method='Baruch')\n",
    "omega, zeta, PsiBM = vt.sos_modal(Mc, Kc)\n",
    "Psi_2 = PsiBM\n",
    "mode1=Psi_2[:,0]\n",
    "mode2=Psi_2[:,1]\n",
    "mode3=Psi_2[:,2]\n",
    "mode4=Psi_2[:,3]\n",
    "mode5=Psi_2[:,4]\n",
    "mode6=Psi_2[:,5]\n",
    "Psi_2BM= np.column_stack((mode1, mode2, mode3, mode4, mode5, mode6))"
   ]
  },
  {
   "cell_type": "code",
   "execution_count": 15,
   "metadata": {
    "collapsed": true
   },
   "outputs": [],
   "source": [
    "omega=np.array([13.54, 51.81, 125.19, 167.76, 228.05, 328.41])\n",
    "Mc, Kc = vt.model_correction_direct(Psi_fullBR, omega, Mbr, Kbr, method='Baruch')\n",
    "omega, zeta, PsiBR = vt.sos_modal(Mc, Kc)\n",
    "Psi_2 = PsiBR\n",
    "mode1=Psi_2[:,0]\n",
    "mode2=Psi_2[:,1]\n",
    "mode3=Psi_2[:,2]\n",
    "mode4=Psi_2[:,3]\n",
    "mode5=Psi_2[:,4]\n",
    "mode6=Psi_2[:,5]\n",
    "Psi_2BR= np.column_stack((mode1, mode2, mode3, mode4, mode5, mode6))"
   ]
  },
  {
   "cell_type": "code",
   "execution_count": 16,
   "metadata": {},
   "outputs": [
    {
     "data": {
      "text/plain": [
       "array([[ 0.881321121,  0.038974652,  0.026369503,  0.022319756,  0.043063273,  0.004626752],\n",
       "       [ 0.151688823,  0.966339971,  0.083540347,  0.000101145,  0.00984486 ,  0.012454445],\n",
       "       [ 0.026114408,  0.130064798,  0.985585275,  0.000779997,  0.146162695,  0.000792393],\n",
       "       [ 0.000705308,  0.000182381,  0.000003272,  0.958222761,  0.000485955,  0.055843798],\n",
       "       [ 0.016009234,  0.033694923,  0.135101087,  0.00022769 ,  0.999311401,  0.000000001],\n",
       "       [ 0.000009955,  0.001125275,  0.002966466,  0.116284286,  0.000000452,  0.990680361]])"
      ]
     },
     "execution_count": 16,
     "metadata": {},
     "output_type": "execute_result"
    }
   ],
   "source": [
    "vt.mac(Psi_fullBM,Psi_2BM)"
   ]
  },
  {
   "cell_type": "code",
   "execution_count": 17,
   "metadata": {},
   "outputs": [
    {
     "data": {
      "text/plain": [
       "array([[ 0.698262238,  0.000359566,  0.001196876,  0.033783873,  0.000001657,  0.002985744],\n",
       "       [ 0.08548994 ,  0.798983181,  0.011013081,  0.000197895,  0.016457018,  0.014427994],\n",
       "       [ 0.01609378 ,  0.065317434,  0.895059712,  0.001135323,  0.055996187,  0.003718399],\n",
       "       [ 0.025364975,  0.003495387,  0.004594898,  0.96107467 ,  0.000053346,  0.018941836],\n",
       "       [ 0.013595906,  0.008849519,  0.049541316,  0.000901858,  0.978078484,  0.001089207],\n",
       "       [ 0.004008585,  0.002180803,  0.030543414,  0.052915722,  0.000170555,  0.987921688]])"
      ]
     },
     "execution_count": 17,
     "metadata": {},
     "output_type": "execute_result"
    }
   ],
   "source": [
    "vt.mac(Psi_fullBR,Psi_2BR)"
   ]
  },
  {
   "cell_type": "markdown",
   "metadata": {},
   "source": [
    "So, after updating the model the MAC matrix results improved drastically. When comparing the three observations made before correcting the model to after correcting:\n",
    "\n",
    "* MAC values are still not 100%, but very close enough .\n",
    "* MAC values of the torsional modes were improved to great extent.\n",
    "* The highest off diagonal mode pair is mode 5 compared to mode 3 (and vice versa 3 to 5) with a MAC value of 34% before is now 13.5%. All the other off-diagonal mode pairs are below 16%. Thats for the Beam model. However, for the Brick off-diagonal terms increased.\n"
   ]
  },
  {
   "cell_type": "markdown",
   "metadata": {},
   "source": [
    "### Conclusion:\n",
    "\n",
    "A Modal Assurance Criterion (or MAC) analysis can be used for FEA-Test, FEA-FEA and Test-Test comparisons of modes. By analyzing a MAC matrix, an engineer can improve the quality of an experimental modal test, verify finite element models, and update FEA models with test data."
   ]
  }
 ],
 "metadata": {
  "hide_input": false,
  "kernelspec": {
   "display_name": "Python 3",
   "language": "python",
   "name": "python3"
  },
  "language_info": {
   "codemirror_mode": {
    "name": "ipython",
    "version": 3
   },
   "file_extension": ".py",
   "mimetype": "text/x-python",
   "name": "python",
   "nbconvert_exporter": "python",
   "pygments_lexer": "ipython3",
   "version": "3.5.2"
  },
  "nbTranslate": {
   "displayLangs": [
    "*"
   ],
   "hotkey": "alt-t",
   "langInMainMenu": true,
   "sourceLang": "en",
   "targetLang": "fr",
   "useGoogleTranslate": true
  },
  "toc": {
   "nav_menu": {},
   "number_sections": true,
   "sideBar": true,
   "skip_h1_title": false,
   "title_cell": "Table of Contents",
   "title_sidebar": "Contents",
   "toc_cell": false,
   "toc_position": {},
   "toc_section_display": true,
   "toc_window_display": false
  },
  "varInspector": {
   "cols": {
    "lenName": 16,
    "lenType": 16,
    "lenVar": 40
   },
   "kernels_config": {
    "python": {
     "delete_cmd_postfix": "",
     "delete_cmd_prefix": "del ",
     "library": "var_list.py",
     "varRefreshCmd": "print(var_dic_list())"
    },
    "r": {
     "delete_cmd_postfix": ") ",
     "delete_cmd_prefix": "rm(",
     "library": "var_list.r",
     "varRefreshCmd": "cat(var_dic_list()) "
    }
   },
   "types_to_exclude": [
    "module",
    "function",
    "builtin_function_or_method",
    "instance",
    "_Feature"
   ],
   "window_display": false
  }
 },
 "nbformat": 4,
 "nbformat_minor": 2
}
