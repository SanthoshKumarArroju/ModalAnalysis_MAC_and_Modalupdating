{
 "cells": [
  {
   "cell_type": "code",
   "execution_count": 1,
   "metadata": {
    "collapsed": true,
    "init_cell": true
   },
   "outputs": [],
   "source": [
    "%load_ext autoreload\n",
    "%autoreload 2\n",
    "%matplotlib inline\n",
    "import vibrationtesting as vt\n",
    "from vibrationtesting import sos_modal\n",
    "import matplotlib.pyplot as plt\n",
    "import scipy\n",
    "import numpy as np\n",
    "import scipy.io as sio\n",
    "import array_to_latex as a2t\n",
    "np.set_printoptions(precision = 9, linewidth = 220, suppress = True)"
   ]
  },
  {
   "cell_type": "markdown",
   "metadata": {},
   "source": [
    "Convert complex modes to real modes"
   ]
  },
  {
   "cell_type": "code",
   "execution_count": 4,
   "metadata": {},
   "outputs": [],
   "source": [
    "M = np.array([[4, 0, 0],\n",
    "              [0, 4, 0],\n",
    "              [0, 0, 4]])\n",
    "Cso = np.array([[1,0,0],\n",
    "                [0,0,0],\n",
    "                [0,0,0]])\n",
    "K = np.array([[8, -4, 0],\n",
    "              [-4, 8, -4],\n",
    "              [0, -4, 4]])\n",
    "omega, _, Psi_true = vt.sos_modal(M, K)\n",
    "Bt = np.array([[1],[0],[0]])\n",
    "Ca = np.array([[1,0,0]])\n",
    "Cd = Cv = np.zeros_like(Ca)\n",
    "A, B, C, D = vt.so2ss(M, Cso, K, Bt, Cd, Cv, Ca)\n",
    "Am, Bm, Cm, Dm, eigenvalues, modes = vt.ss_modal(A, B, C, D)\n",
    "mat_contents=sio.loadmat('1stNaturalFreq.mat')\n",
    "U1 = mat_contents['U1']\n",
    "complex_modes = modes[:3,0::2]\n",
    "complex_modes = complex_modes@np.linalg.inv(np.diag(np.diag(complex_modes)))\n",
    "Psi_est = vt.real_modes(U1)\n",
    "Psi=Psi_est"
   ]
  },
  {
   "cell_type": "code",
   "execution_count": 5,
   "metadata": {
    "scrolled": true
   },
   "outputs": [
    {
     "data": {
      "text/plain": [
       "<141x141 sparse matrix of type '<class 'numpy.float64'>'\n",
       "\twith 1627 stored elements in Compressed Sparse Column format>"
      ]
     },
     "execution_count": 5,
     "metadata": {},
     "output_type": "execute_result"
    }
   ],
   "source": [
    "mat_contents=sio.loadmat('WingBeamModal.mat')\n",
    "K = mat_contents['K']\n",
    "M = mat_contents['M']\n",
    "#omega, zeta, Psi = vt.sos_modal(scipy.sparse.linalg([M]), scipy.sparse.linalg([K]))\n",
    "#scipy.sparse.linalg(K)\n",
    "K"
   ]
  },
  {
   "cell_type": "code",
   "execution_count": 7,
   "metadata": {},
   "outputs": [
    {
     "ename": "NotImplementedError",
     "evalue": "Reshaping not implemented for csr_matrix.",
     "output_type": "error",
     "traceback": [
      "\u001b[0;31m---------------------------------------------------------------------------\u001b[0m",
      "\u001b[0;31mNotImplementedError\u001b[0m                       Traceback (most recent call last)",
      "\u001b[0;32m<ipython-input-7-ac9c6c9cd5e6>\u001b[0m in \u001b[0;36m<module>\u001b[0;34m()\u001b[0m\n\u001b[1;32m      4\u001b[0m \u001b[0;31m#Psi_full = vt.mode_expansion_from_model(Psi_measured, omega[0], M, K, measured)\u001b[0m\u001b[0;34m\u001b[0m\u001b[0;34m\u001b[0m\u001b[0m\n\u001b[1;32m      5\u001b[0m \u001b[0;31m#Psi_measured\u001b[0m\u001b[0;34m\u001b[0m\u001b[0;34m\u001b[0m\u001b[0m\n\u001b[0;32m----> 6\u001b[0;31m \u001b[0mvt\u001b[0m\u001b[0;34m.\u001b[0m\u001b[0mmode_expansion_from_model\u001b[0m\u001b[0;34m(\u001b[0m\u001b[0mPsi\u001b[0m\u001b[0;34m,\u001b[0m \u001b[0momega\u001b[0m\u001b[0;34m,\u001b[0m \u001b[0mM\u001b[0m\u001b[0;34m,\u001b[0m \u001b[0mK\u001b[0m\u001b[0;34m,\u001b[0m \u001b[0mmeasured\u001b[0m\u001b[0;34m)\u001b[0m\u001b[0;34m\u001b[0m\u001b[0m\n\u001b[0m",
      "\u001b[0;32m/usr/local/lib/python3.5/dist-packages/vibrationtesting/system.py\u001b[0m in \u001b[0;36mmode_expansion_from_model\u001b[0;34m(Psi, omega, M, K, measured)\u001b[0m\n\u001b[1;32m    731\u001b[0m     \"\"\"\n\u001b[1;32m    732\u001b[0m \u001b[0;34m\u001b[0m\u001b[0m\n\u001b[0;32m--> 733\u001b[0;31m     \u001b[0mMuu\u001b[0m \u001b[0;34m=\u001b[0m \u001b[0mslice\u001b[0m\u001b[0;34m(\u001b[0m\u001b[0mM\u001b[0m\u001b[0;34m,\u001b[0m \u001b[0munmeasured_dofs\u001b[0m\u001b[0;34m,\u001b[0m \u001b[0munmeasured_dofs\u001b[0m\u001b[0;34m)\u001b[0m\u001b[0;34m\u001b[0m\u001b[0m\n\u001b[0m\u001b[1;32m    734\u001b[0m     \u001b[0mKuu\u001b[0m \u001b[0;34m=\u001b[0m \u001b[0mslice\u001b[0m\u001b[0;34m(\u001b[0m\u001b[0mK\u001b[0m\u001b[0;34m,\u001b[0m \u001b[0munmeasured_dofs\u001b[0m\u001b[0;34m,\u001b[0m \u001b[0munmeasured_dofs\u001b[0m\u001b[0;34m)\u001b[0m\u001b[0;34m\u001b[0m\u001b[0m\n\u001b[1;32m    735\u001b[0m     \u001b[0mMum\u001b[0m \u001b[0;34m=\u001b[0m \u001b[0mslice\u001b[0m\u001b[0;34m(\u001b[0m\u001b[0mM\u001b[0m\u001b[0;34m,\u001b[0m \u001b[0munmeasured_dofs\u001b[0m\u001b[0;34m,\u001b[0m \u001b[0mmeasured\u001b[0m\u001b[0;34m)\u001b[0m\u001b[0;34m\u001b[0m\u001b[0m\n",
      "\u001b[0;32m/usr/local/lib/python3.5/dist-packages/vibrationtesting/system.py\u001b[0m in \u001b[0;36mslice\u001b[0;34m(Matrix, a, b)\u001b[0m\n\u001b[1;32m    850\u001b[0m \u001b[0;34m\u001b[0m\u001b[0m\n\u001b[1;32m    851\u001b[0m     return (Matrix[np.array(a).reshape(-1, 1), b]\n\u001b[0;32m--> 852\u001b[0;31m             .reshape(np.array(a).shape[0], np.array(b).shape[0]))\n\u001b[0m\u001b[1;32m    853\u001b[0m \u001b[0;34m\u001b[0m\u001b[0m\n\u001b[1;32m    854\u001b[0m \u001b[0;34m\u001b[0m\u001b[0m\n",
      "\u001b[0;32m~/.local/lib/python3.5/site-packages/scipy/sparse/base.py\u001b[0m in \u001b[0;36mreshape\u001b[0;34m(self, shape, order)\u001b[0m\n\u001b[1;32m    126\u001b[0m         \"\"\"\n\u001b[1;32m    127\u001b[0m         raise NotImplementedError(\"Reshaping not implemented for %s.\" %\n\u001b[0;32m--> 128\u001b[0;31m                                   self.__class__.__name__)\n\u001b[0m\u001b[1;32m    129\u001b[0m \u001b[0;34m\u001b[0m\u001b[0m\n\u001b[1;32m    130\u001b[0m     \u001b[0;32mdef\u001b[0m \u001b[0mastype\u001b[0m\u001b[0;34m(\u001b[0m\u001b[0mself\u001b[0m\u001b[0;34m,\u001b[0m \u001b[0mt\u001b[0m\u001b[0;34m)\u001b[0m\u001b[0;34m:\u001b[0m\u001b[0;34m\u001b[0m\u001b[0m\n",
      "\u001b[0;31mNotImplementedError\u001b[0m: Reshaping not implemented for csr_matrix."
     ]
    }
   ],
   "source": [
    " measured = np.array([[3,9,15,21,27,33,39,45,51,57,63,69,75,81,87,93,99,105]])\n",
    " omega=13.54\n",
    " #Psi_measured = np.array([U1])\n",
    " #Psi_full = vt.mode_expansion_from_model(Psi_measured, omega[0], M, K, measured)\n",
    " #Psi_measured\n",
    " vt.mode_expansion_from_model(Psi, omega, M, K, measured)"
   ]
  },
  {
   "cell_type": "code",
   "execution_count": 13,
   "metadata": {},
   "outputs": [
    {
     "data": {
      "text/plain": [
       "array([[ 1.000000000-0.j         ,  2.099234839-0.684531423j,  1.678352494+0.52790572j ],\n",
       "       [ 1.798247408+0.099411477j,  1.000000000-0.j         , -2.218125195-0.153628421j],\n",
       "       [ 2.240934713+0.157537198j, -1.651470818+0.512991869j,  1.000000000-0.j         ]])"
      ]
     },
     "execution_count": 13,
     "metadata": {},
     "output_type": "execute_result"
    }
   ],
   "source": [
    "complex_modes"
   ]
  },
  {
   "cell_type": "code",
   "execution_count": 5,
   "metadata": {
    "scrolled": true
   },
   "outputs": [
    {
     "data": {
      "text/plain": [
       "array([[-0.163992639,  0.368488115, -0.295504524],\n",
       "       [-0.295504524,  0.163992639,  0.368488115],\n",
       "       [-0.368488115, -0.295504524, -0.163992639]])"
      ]
     },
     "execution_count": 5,
     "metadata": {},
     "output_type": "execute_result"
    }
   ],
   "source": [
    "Psi_true"
   ]
  },
  {
   "cell_type": "code",
   "execution_count": 6,
   "metadata": {},
   "outputs": [
    {
     "data": {
      "text/plain": [
       "array([[ 1.         ,  2.099234839,  1.678352494],\n",
       "       [ 1.798247408,  1.         , -2.218125195],\n",
       "       [ 2.240934713, -1.651470818,  1.         ]])"
      ]
     },
     "execution_count": 6,
     "metadata": {},
     "output_type": "execute_result"
    }
   ],
   "source": [
    "Psi_real = np.real(complex_modes)\n",
    "Psi_real"
   ]
  },
  {
   "cell_type": "code",
   "execution_count": 77,
   "metadata": {},
   "outputs": [
    {
     "name": "stdout",
     "output_type": "stream",
     "text": [
      "\\begin{bmatrix}\n",
      " -0.16399,  0.36849, -0.29550\\\\\n",
      " -0.29550,  0.16399,  0.36849\\\\\n",
      " -0.36849, -0.29550, -0.16399\n",
      "\\end{bmatrix}\n"
     ]
    }
   ],
   "source": [
    "a2t.to_ltx(Psi_true, frmt = '{:3.5f}')"
   ]
  },
  {
   "cell_type": "code",
   "execution_count": 8,
   "metadata": {
    "collapsed": true
   },
   "outputs": [
    {
     "name": "stdout",
     "output_type": "stream",
     "text": [
      "Help on function to_clp in module array_to_latex.array_to_latex:\n",
      "\n",
      "to_clp(a, frmt='{:1.2f}', arraytype='bmatrix')\n",
      "    Returns a LaTeX array the the clipboard given a numpy array\n",
      "    \n",
      "    Parameters\n",
      "    ----------\n",
      "    a         : array\n",
      "    frmt      : python 3 formatter, optional\n",
      "                https://mkaz.tech/python-string-format.html\n",
      "    arraytype : latex array type- `bmatrix` default, optional\n",
      "    \n",
      "    Returns:\n",
      "    --------\n",
      "    out: str\n",
      "        LaTeX array\n",
      "    \n",
      "    See Also\n",
      "    --------\n",
      "    array_to_latex\n",
      "    \n",
      "    Examples\n",
      "    ________\n",
      "    >>> import numpy as np\n",
      "    >>> import array_to_latex as ar\n",
      "    >>> A = np.array([[1.23456, 23.45678],[456.23, 8.239521]])\n",
      "    >>> ar.to_clp(A, frmt = '{:6.2f}', arraytype = 'array')\n",
      "    \n",
      "    Note that the output is in your clipboard, so you won't see any results.\n",
      "    See `to_ltx` for further examples\n",
      "\n"
     ]
    }
   ],
   "source": [
    "help(a2t.to_clp)"
   ]
  },
  {
   "cell_type": "code",
   "execution_count": 9,
   "metadata": {
    "scrolled": true
   },
   "outputs": [
    {
     "data": {
      "text/plain": [
       "array([[ 1.         ,  2.208024044,  1.759417956],\n",
       "       [ 1.800993165,  1.         , -2.223439019],\n",
       "       [ 2.246465302, -1.729310996,  1.         ]])"
      ]
     },
     "execution_count": 9,
     "metadata": {},
     "output_type": "execute_result"
    }
   ],
   "source": [
    "Psi_abs = np.abs(complex_modes)*np.real(np.sign(complex_modes))\n",
    "Psi_abs"
   ]
  },
  {
   "cell_type": "code",
   "execution_count": 10,
   "metadata": {},
   "outputs": [
    {
     "data": {
      "text/plain": [
       "array([[ 1.         ,  2.208024044,  1.759417956],\n",
       "       [ 1.80253425 ,  0.974920375, -2.116079409],\n",
       "       [ 2.229245067, -1.760956913,  0.902996771]])"
      ]
     },
     "execution_count": 10,
     "metadata": {},
     "output_type": "execute_result"
    }
   ],
   "source": [
    "Psi_est"
   ]
  },
  {
   "cell_type": "code",
   "execution_count": 11,
   "metadata": {},
   "outputs": [
    {
     "data": {
      "text/plain": [
       "array([[0.999999338, 0.000479191, 0.000063106],\n",
       "       [0.000000603, 0.999343589, 0.000762406],\n",
       "       [0.000000059, 0.00017722 , 0.999174488]])"
      ]
     },
     "execution_count": 11,
     "metadata": {},
     "output_type": "execute_result"
    }
   ],
   "source": [
    "vt.mac(Psi_true,Psi_real)"
   ]
  },
  {
   "cell_type": "code",
   "execution_count": 73,
   "metadata": {},
   "outputs": [
    {
     "name": "stdout",
     "output_type": "stream",
     "text": [
      "\\begin{bmatrix}\n",
      "  1.00000,  0.00048,  0.00006\\\\\n",
      "  0.00000,  0.99934,  0.00076\\\\\n",
      "  0.00000,  0.00018,  0.99917\n",
      "\\end{bmatrix}\n"
     ]
    }
   ],
   "source": [
    "a2t.to_ltx(vt.mac(Psi_true,Psi_real), frmt = '{:3.5f}')"
   ]
  },
  {
   "cell_type": "code",
   "execution_count": 67,
   "metadata": {},
   "outputs": [
    {
     "data": {
      "text/plain": [
       "array([[0.99999997 , 0.000187273, 0.         ],\n",
       "       [0.         , 0.999812655, 0.000061695],\n",
       "       [0.00000003 , 0.000000072, 0.999938305]])"
      ]
     },
     "execution_count": 67,
     "metadata": {},
     "output_type": "execute_result"
    }
   ],
   "source": [
    "vt.mac(Psi_true,Psi_abs)"
   ]
  },
  {
   "cell_type": "code",
   "execution_count": 71,
   "metadata": {},
   "outputs": [
    {
     "name": "stdout",
     "output_type": "stream",
     "text": [
      "\\begin{bmatrix}\n",
      "  1.00000,  0.00019,  0.00000\\\\\n",
      "  0.00000,  0.99981,  0.00006\\\\\n",
      "  0.00000,  0.00000,  0.99994\n",
      "\\end{bmatrix}\n"
     ]
    }
   ],
   "source": [
    "a2t.to_ltx(vt.mac(Psi_true,Psi_abs), frmt = '{:3.5f}')"
   ]
  },
  {
   "cell_type": "code",
   "execution_count": 15,
   "metadata": {},
   "outputs": [
    {
     "data": {
      "text/plain": [
       "array([[0.999983388, 0.000000759, 0.000007767],\n",
       "       [0.000012366, 0.999990366, 0.000566347],\n",
       "       [0.000004246, 0.000008875, 0.999425887]])"
      ]
     },
     "execution_count": 15,
     "metadata": {},
     "output_type": "execute_result"
    }
   ],
   "source": [
    "vt.mac(Psi_true,Psi_est)"
   ]
  },
  {
   "cell_type": "code",
   "execution_count": 72,
   "metadata": {},
   "outputs": [
    {
     "name": "stdout",
     "output_type": "stream",
     "text": [
      "\\begin{bmatrix}\n",
      "  0.99998,  0.00000,  0.00001\\\\\n",
      "  0.00001,  0.99999,  0.00057\\\\\n",
      "  0.00000,  0.00001,  0.99943\n",
      "\\end{bmatrix}\n"
     ]
    }
   ],
   "source": [
    "a2t.to_ltx(vt.mac(Psi_true,Psi_est), frmt = '{:3.5f}')"
   ]
  },
  {
   "cell_type": "code",
   "execution_count": 17,
   "metadata": {
    "collapsed": true
   },
   "outputs": [],
   "source": [
    "Psi_real = vt.mass_normalize(Psi_real, M)"
   ]
  },
  {
   "cell_type": "code",
   "execution_count": 18,
   "metadata": {},
   "outputs": [
    {
     "data": {
      "text/plain": [
       "array([[ 1.         ,  0.022663407, -0.007723197],\n",
       "       [ 0.022663407,  1.         , -0.041083449],\n",
       "       [-0.007723197, -0.041083449,  1.         ]])"
      ]
     },
     "execution_count": 18,
     "metadata": {},
     "output_type": "execute_result"
    }
   ],
   "source": [
    "Psi_real.T@M@Psi_real"
   ]
  },
  {
   "cell_type": "code",
   "execution_count": 76,
   "metadata": {},
   "outputs": [
    {
     "name": "stdout",
     "output_type": "stream",
     "text": [
      "\\begin{bmatrix}\n",
      "  1.00,  0.02, -0.01\\\\\n",
      "  0.02,  1.00, -0.04\\\\\n",
      " -0.01, -0.04,  1.00\n",
      "\\end{bmatrix}\n"
     ]
    }
   ],
   "source": [
    "a2t.to_ltx(Psi_real.T@M@Psi_real)"
   ]
  },
  {
   "cell_type": "code",
   "execution_count": 75,
   "metadata": {},
   "outputs": [
    {
     "name": "stdout",
     "output_type": "stream",
     "text": [
      "\\begin{bmatrix}\n",
      "  0.16435+0.00000j,  0.36802-0.68453j,  0.28391+0.52791j\\\\\n",
      "  0.29554+0.09941j,  0.17531-0.00000j, -0.37521-0.15363j\\\\\n",
      "  0.36830+0.15754j, -0.28952+0.51299j,  0.16916-0.00000j\n",
      "\\end{bmatrix}\n"
     ]
    }
   ],
   "source": [
    "a2t.to_ltx(complex_modes, frmt = '{:3.5f}')"
   ]
  },
  {
   "cell_type": "code",
   "execution_count": null,
   "metadata": {
    "collapsed": true
   },
   "outputs": [],
   "source": []
  }
 ],
 "metadata": {
  "hide_input": false,
  "kernelspec": {
   "display_name": "Python 3",
   "language": "python",
   "name": "python3"
  },
  "language_info": {
   "codemirror_mode": {
    "name": "ipython",
    "version": 3
   },
   "file_extension": ".py",
   "mimetype": "text/x-python",
   "name": "python",
   "nbconvert_exporter": "python",
   "pygments_lexer": "ipython3",
   "version": "3.5.2"
  },
  "toc": {
   "nav_menu": {},
   "number_sections": true,
   "sideBar": true,
   "skip_h1_title": false,
   "title_cell": "Table of Contents",
   "title_sidebar": "Contents",
   "toc_cell": false,
   "toc_position": {},
   "toc_section_display": true,
   "toc_window_display": false
  },
  "varInspector": {
   "cols": {
    "lenName": 16,
    "lenType": 16,
    "lenVar": 40
   },
   "kernels_config": {
    "python": {
     "delete_cmd_postfix": "",
     "delete_cmd_prefix": "del ",
     "library": "var_list.py",
     "varRefreshCmd": "print(var_dic_list())"
    },
    "r": {
     "delete_cmd_postfix": ") ",
     "delete_cmd_prefix": "rm(",
     "library": "var_list.r",
     "varRefreshCmd": "cat(var_dic_list()) "
    }
   },
   "types_to_exclude": [
    "module",
    "function",
    "builtin_function_or_method",
    "instance",
    "_Feature"
   ],
   "window_display": false
  }
 },
 "nbformat": 4,
 "nbformat_minor": 2
}
