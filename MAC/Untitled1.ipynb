{
 "cells": [
  {
   "cell_type": "code",
   "execution_count": 119,
   "metadata": {},
   "outputs": [
    {
     "name": "stdout",
     "output_type": "stream",
     "text": [
      "The autoreload extension is already loaded. To reload it, use:\n",
      "  %reload_ext autoreload\n"
     ]
    }
   ],
   "source": [
    "%load_ext autoreload\n",
    "%autoreload 2\n",
    "%matplotlib inline\n",
    "import vibrationtesting as vt\n",
    "from vibrationtesting import sos_modal\n",
    "import matplotlib.pyplot as plt\n",
    "import scipy\n",
    "import numpy as np\n",
    "import scipy.io as sio\n",
    "import array_to_latex as a2t\n",
    "np.set_printoptions(precision = 9, linewidth = 220, suppress = True)"
   ]
  },
  {
   "cell_type": "code",
   "execution_count": 120,
   "metadata": {},
   "outputs": [
    {
     "data": {
      "text/plain": [
       "(3, 2)"
      ]
     },
     "execution_count": 120,
     "metadata": {},
     "output_type": "execute_result"
    }
   ],
   "source": [
    "a = np.array((1,2,3))\n",
    "b = np.array((2,3,4))\n",
    "c=np.column_stack((a,b))\n",
    "c.shape"
   ]
  },
  {
   "cell_type": "markdown",
   "metadata": {},
   "source": [
    "Convert complex modes to real modes"
   ]
  },
  {
   "cell_type": "code",
   "execution_count": 203,
   "metadata": {},
   "outputs": [
    {
     "data": {
      "text/plain": [
       "array([[   5.241707706,  -27.127615081,   52.843453543,  107.210143005,   71.139095015, -269.817342785],\n",
       "       [   4.687209363,  -26.945738191,   52.183186313,   -7.83341953 ,   71.411534453,  -40.625538373],\n",
       "       [   4.368421773,  -25.121917234,   51.597488464,  -99.159212806,   69.26683148 ,  238.962801192],\n",
       "       [   3.519108382,   -7.307635452,  -36.871073212,  112.432870575,  -75.970925544, -209.599864678],\n",
       "       [   3.99369394 ,   -8.550399951,  -37.014491536,   34.494279202,  -65.780768515,  -57.021770026],\n",
       "       [   4.110844861,   -7.792721262,  -38.903453864,  -97.14023879 ,  -68.483622372,  185.356134448],\n",
       "       [   3.912418166,   17.983583519,  -33.877855743,  101.225337752,   30.716200755,   95.968190423],\n",
       "       [   3.359713741,   17.158904587,  -35.675183371,   37.881749912,   46.813407339,  -11.419977031],\n",
       "       [   3.303682334,   17.92248139 ,  -34.000342956,  -88.24444254 ,   41.527236694, -103.954353298],\n",
       "       [   2.277194422,   17.704562416,   27.531465665,   84.338186021,   50.495553972,  198.267837379],\n",
       "       [   2.181482393,   17.698151799,   28.087937544,   20.185704122,   46.548943562,   61.675717133],\n",
       "       [   2.03686602 ,   17.487103427,   29.096075801,  -75.817733122,   42.33667518 , -171.42639114 ],\n",
       "       [   1.512073025,   12.695689876,   33.433982783,   58.629698067,  -59.01735077 ,  177.310634149],\n",
       "       [   2.059821363,   12.622317503,   34.436422063,   16.036931999,  -51.982592324,   57.135293283],\n",
       "       [   1.718553685,   12.302821956,   32.75459133 ,  -57.740897254,  -52.426502109, -168.834545744],\n",
       "       [  -1.378765495,    4.862295658,   13.355225662,   27.009538472,  -19.318454365,   87.35348258 ],\n",
       "       [   3.77734956 ,    7.614320902,   20.301004084,    6.755812795,  -33.695148838,   19.748983163],\n",
       "       [   0.4700011  ,    4.044988002,   14.331419765,  -26.976911833,  -29.104702462,  -85.860003138]])"
      ]
     },
     "execution_count": 203,
     "metadata": {},
     "output_type": "execute_result"
    }
   ],
   "source": [
    "mat_contents=sio.loadmat('1stNaturalFreq.mat')\n",
    "U1 = mat_contents['U1']\n",
    "#U1 = vt.real_modes(U1, autorotate = True)\n",
    "mat_contents=sio.loadmat('2ndNaturalFreq.mat')\n",
    "U2 = mat_contents['U2']\n",
    "#U2 = vt.real_modes(U2, autorotate = True)\n",
    "mat_contents=sio.loadmat('3rdNaturalFreq.mat')\n",
    "U3 = mat_contents['U3']\n",
    "#U3 = vt.real_modes(U3, autorotate = True)\n",
    "mat_contents=sio.loadmat('4rthNaturalFreq.mat')\n",
    "U4 = mat_contents['U4']\n",
    "#U4 = vt.real_modes(U4, autorotate = True)\n",
    "mat_contents=sio.loadmat('5thNaturalFreq.mat')\n",
    "U5 = mat_contents['U5']\n",
    "#U5 = vt.real_modes(U5, autorotate = True)\n",
    "mat_contents=sio.loadmat('6thNaturalFreq.mat')\n",
    "U6 = mat_contents['U6']\n",
    "#U6 = vt.real_modes(U6, autorotate = True)\n",
    "\n",
    "Psi_1 = np.array(U1)\n",
    "Psi_2 = np.array(U2)\n",
    "Psi_3 = np.array(U3)\n",
    "Psi_4 = np.array(U4)\n",
    "Psi_5 = np.array(U5)\n",
    "Psi_6 = np.array(U6)\n",
    "Psi_1=np.column_stack((Psi_1,Psi_2,Psi_3,Psi_4,Psi_5,Psi_6))\n",
    "\n",
    "\n",
    "Psi_abs = np.abs(Psi_1)*np.real(np.sign(Psi_1))\n",
    "Psi_1 = Psi_abs\n",
    "Psi_1\n",
    "\n"
   ]
  },
  {
   "cell_type": "code",
   "execution_count": 207,
   "metadata": {},
   "outputs": [
    {
     "data": {
      "text/plain": [
       "array([[ 1.303055172, -1.511062939,  1.45538456 , -1.507262055, -1.221071448,  1.66978115 ],\n",
       "       [ 1.303096569, -1.511834301,  1.459195846, -0.         , -1.230962508,  0.         ],\n",
       "       [ 1.303055172, -1.511062939,  1.45538456 ,  1.507262055, -1.221071448, -1.66978115 ],\n",
       "       [ 0.904435509, -0.12989042 , -0.666853098, -0.834836394,  0.902775667, -0.188854484],\n",
       "       [ 0.904496146, -0.130352106, -0.667699499,  0.         ,  0.909819135, -0.         ],\n",
       "       [ 0.904435509, -0.12989042 , -0.666853098,  0.834836394,  0.902775667,  0.188854484],\n",
       "       [ 0.545786029,  0.59775021 , -0.375294812,  0.212189574, -0.605038368, -0.927545412],\n",
       "       [ 0.545857249,  0.597939942, -0.377390031, -0.         , -0.608638479,  0.         ],\n",
       "       [ 0.545786029,  0.59775021 , -0.375294812, -0.212189574, -0.605038368,  0.927545412],\n",
       "       [ 0.259255815,  0.601289096,  0.538985585,  0.769605929, -0.040990903,  0.24311203 ],\n",
       "       [ 0.259330209,  0.602017999,  0.54036016 , -0.         , -0.043128465, -0.         ],\n",
       "       [ 0.259255815,  0.601289096,  0.538985585, -0.769605929, -0.040990903, -0.24311203 ],\n",
       "       [ 0.069570805,  0.235847701,  0.4419994  ,  0.530695768,  0.588089522,  0.707137054],\n",
       "       [ 0.069634001,  0.236631573,  0.445382541,  0.         ,  0.597769687,  0.         ],\n",
       "       [ 0.069570805,  0.235847701,  0.4419994  , -0.530695768,  0.588089522, -0.707137054],\n",
       "       [ 0.         ,  0.         ,  0.         ,  0.         ,  0.         ,  0.         ],\n",
       "       [ 0.         ,  0.         ,  0.         ,  0.         ,  0.         ,  0.         ],\n",
       "       [ 0.         ,  0.         ,  0.         ,  0.         ,  0.         ,  0.         ]])"
      ]
     },
     "execution_count": 207,
     "metadata": {},
     "output_type": "execute_result"
    }
   ],
   "source": [
    "mat_contents=sio.loadmat('WingBeamforMAC.mat')\n",
    "fms = mat_contents['fms']\n",
    "fms=np.array(fms)\n",
    "Psi_21 = np.array([fms[2,0], fms[8,0], fms[14,0], fms[20,0], fms[26,0], fms[32,0], fms[38,0], fms[44,0], fms[50,0], fms[56,0], fms[62,0], fms[68,0], fms[74,0], fms[80,0], fms[86,0], fms[92,0], fms[98,0], fms[104,0]])\n",
    "#0.9044, 0.9044, 0.9044, 0.5459, 0.5459, 0.5459, 0.2593, 0.2593,  0.2593, 0.0696, 0.0696, 0.0696, 0, 0, 0])\n",
    "#Psi_1 = np.transpose([Psi_1])\n",
    "#Psi_1 = \n",
    "#a=(Psi_1*Psi_2)**2\n",
    "#a\n",
    "Psi_22 = np.array([fms[2,1], fms[8,1], fms[14,1], fms[20,1], fms[26,1], fms[32,1], fms[38,1], fms[44,1], fms[50,1], fms[56,1], fms[62,1], fms[68,1], fms[74,1], fms[80,1], fms[86,1], fms[92,1], fms[98,1], fms[104,1]])\n",
    "Psi_24=np.array([fms[2,4], fms[8,4], fms[14,4], fms[20,4], fms[26,4], fms[32,4], fms[38,4], fms[44,4], fms[50,4], fms[56,4], fms[62,4], fms[68,4], fms[74,4], fms[80,4], fms[86,4], fms[92,4], fms[98,4], fms[104,4]])\n",
    "\n",
    "Psi_25=np.array([fms[2,5], fms[8,5], fms[14,5], fms[20,5], fms[26,5], fms[32,5], fms[38,5], fms[44,5], fms[50,5], fms[56,5], fms[62,5], fms[68,5], fms[74,5], fms[80,5], fms[86,5], fms[92,5], fms[98,5], fms[104,5]])\n",
    "Psi_26=np.array([fms[2,6], fms[8,6], fms[14,6], fms[20,6], fms[26,6], fms[32,6], fms[38,6], fms[44,6], fms[50,6], fms[56,6], fms[62,6], fms[68,6], fms[74,6], fms[80,6], fms[86,6], fms[92,6], fms[98,6], fms[104,6]])\n",
    "Psi_23=np.array([fms[2,3], fms[8,3], fms[14,3], fms[20,3], fms[26,3], fms[32,3], fms[38,3], fms[44,3], fms[50,3], fms[56,3], fms[62,3], fms[68,3], fms[74,3], fms[80,3], fms[86,3], fms[92,3], fms[98,3], fms[104,3]])                \n",
    "#Psi_2 = np.transpose([Psi_2])\n",
    "#Psi_2.shape\n",
    "Psi_2=np.column_stack((Psi_21,Psi_22,Psi_23,Psi_24,Psi_25,Psi_26))\n",
    "Psi_2"
   ]
  },
  {
   "cell_type": "markdown",
   "metadata": {},
   "source": [
    "MAC\n"
   ]
  },
  {
   "cell_type": "code",
   "execution_count": 208,
   "metadata": {},
   "outputs": [],
   "source": [
    "   \n",
    "#vt.mac(Psi_true,Psi_real)\n",
    "nummodes = Psi_1.shape[1]\n",
    "MAC = np.zeros((nummodes, nummodes))\n",
    "if Psi_1.shape == Psi_2.shape:\n",
    "        for i in np.arange(nummodes):\n",
    "            for j in np.arange(nummodes):\n",
    "                MAC[i, j] = (abs(np.conj(Psi_1[:, i]) @ Psi_2[:, j])**2 /\n",
    "                             (np.conj(Psi_1[:, i]) @ Psi_1[:, i] *\n",
    "                              np.conj(Psi_2[:, j]) @ Psi_2[:, j]))\n",
    "else:\n",
    "        print('Mode shape arrays must have the same size.')\n",
    "    "
   ]
  },
  {
   "cell_type": "code",
   "execution_count": 209,
   "metadata": {},
   "outputs": [
    {
     "data": {
      "text/plain": [
       "array([[ 0.825406385,  0.076783217,  0.121819586,  0.000256617,  0.063672648,  0.000518953],\n",
       "       [ 0.153799733,  0.874373247,  0.122060215,  0.00024628 ,  0.093517147,  0.000250251],\n",
       "       [ 0.028431752,  0.210252628,  0.865235993,  0.000109965,  0.149111486,  0.000014794],\n",
       "       [ 0.008972298,  0.00254086 ,  0.001026265,  0.101801144,  0.000674506,  0.086050501],\n",
       "       [ 0.067971096,  0.06431233 ,  0.329386648,  0.000037636,  0.816052453,  0.000317923],\n",
       "       [ 0.006736104,  0.008714956,  0.000320209,  0.86438182 ,  0.001065246,  0.120045373]])"
      ]
     },
     "execution_count": 209,
     "metadata": {},
     "output_type": "execute_result"
    }
   ],
   "source": [
    "MAC"
   ]
  },
  {
   "cell_type": "markdown",
   "metadata": {},
   "source": [
    "Extension of modes from Modal Analysis to All DOF of a Finite Element Model"
   ]
  },
  {
   "cell_type": "code",
   "execution_count": null,
   "metadata": {
    "collapsed": true
   },
   "outputs": [],
   "source": [
    "mat_contents=sio.loadmat('WingBeamforMAC.mat')\n",
    "K = mat_contents['K']\n",
    "M = mat_contents['M']\n",
    "measured = np.array([[3,9,15,21,27,33,39,45,51,57,63,69,75,81,87,93,99,105]])\n",
    "omega=13.54\n",
    "vt.mode_expansion_from_model(Psi_1, omega, M, K, measured)"
   ]
  }
 ],
 "metadata": {
  "kernelspec": {
   "display_name": "Python 3",
   "language": "python",
   "name": "python3"
  },
  "language_info": {
   "codemirror_mode": {
    "name": "ipython",
    "version": 3
   },
   "file_extension": ".py",
   "mimetype": "text/x-python",
   "name": "python",
   "nbconvert_exporter": "python",
   "pygments_lexer": "ipython3",
   "version": "3.5.2"
  }
 },
 "nbformat": 4,
 "nbformat_minor": 2
}
