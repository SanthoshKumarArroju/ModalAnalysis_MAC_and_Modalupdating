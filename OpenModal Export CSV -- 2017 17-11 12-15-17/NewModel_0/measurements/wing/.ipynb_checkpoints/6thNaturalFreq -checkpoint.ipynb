{
 "cells": [
  {
   "cell_type": "markdown",
   "metadata": {},
   "source": [
    "# Modal Analysis of a Wing"
   ]
  },
  {
   "cell_type": "code",
   "execution_count": 1,
   "metadata": {
    "collapsed": true
   },
   "outputs": [],
   "source": [
    "clear all\n",
    "close all\n",
    "clc\n",
    "%imatlab_export_fig('print-png')"
   ]
  },
  {
   "cell_type": "markdown",
   "metadata": {},
   "source": [
    "At first natural frequency for all 18 points on the wing\n",
    "--"
   ]
  },
  {
   "cell_type": "code",
   "execution_count": 6,
   "metadata": {
    "collapsed": true
   },
   "outputs": [],
   "source": [
    "load FRF1.mat\n",
    "load Frequencies.mat\n",
    "H=20*log10(abs(x1));% in dB\n",
    "f=Frequencies; % in Hz\n",
    "plot(f, H)"
   ]
  },
  {
   "cell_type": "code",
   "execution_count": 142,
   "metadata": {},
   "outputs": [
    {
     "name": "stdout",
     "output_type": "stream",
     "text": [
      "\n",
      "z =\n",
      "\n",
      "    0.0087\n",
      "\n",
      "\n",
      "nf =\n",
      "\n",
      "  228.1232\n",
      "\n",
      "\n",
      "u518 =\n",
      "\n",
      " -29.1047 + 0.0000i\n",
      "\n"
     ]
    }
   ],
   "source": [
    "load FRF18.mat\n",
    "load Frequencies.mat\n",
    "[z,nf,u518]=vtb7_4(Frequencies,x18,225,230)"
   ]
  },
  {
   "cell_type": "code",
   "execution_count": 143,
   "metadata": {},
   "outputs": [
    {
     "name": "stdout",
     "output_type": "stream",
     "text": [
      "\n",
      "z =\n",
      "\n",
      "    0.0108\n",
      "\n",
      "\n",
      "nf =\n",
      "\n",
      "  227.4340\n",
      "\n",
      "\n",
      "u517 =\n",
      "\n",
      " -33.2809 + 0.0000i\n",
      "\n"
     ]
    }
   ],
   "source": [
    "load FRF17.mat\n",
    "load Frequencies.mat\n",
    "\n",
    "[z,nf,u517]=vtb7_4(Frequencies,x17,225,230)"
   ]
  },
  {
   "cell_type": "code",
   "execution_count": 144,
   "metadata": {},
   "outputs": [
    {
     "name": "stdout",
     "output_type": "stream",
     "text": [
      "\n",
      "z =\n",
      "\n",
      "    0.0045\n",
      "\n",
      "\n",
      "nf =\n",
      "\n",
      "  227.8826\n",
      "\n",
      "\n",
      "u516 =\n",
      "\n",
      " -19.3185 + 0.0000i\n",
      "\n"
     ]
    }
   ],
   "source": [
    "load FRF16.mat\n",
    "load Frequencies.mat\n",
    "\n",
    "[z,nf,u516]=vtb7_4(Frequencies,x16,227.5,228)"
   ]
  },
  {
   "cell_type": "code",
   "execution_count": 145,
   "metadata": {},
   "outputs": [
    {
     "name": "stdout",
     "output_type": "stream",
     "text": [
      "\n",
      "z =\n",
      "\n",
      "    0.0114\n",
      "\n",
      "\n",
      "nf =\n",
      "\n",
      "  228.4186\n",
      "\n",
      "\n",
      "u515 =\n",
      "\n",
      " -52.4265 - 0.0000i\n",
      "\n"
     ]
    }
   ],
   "source": [
    "load FRF15.mat\n",
    "load Frequencies.mat\n",
    "\n",
    "[z,nf,u515]=vtb7_4(Frequencies,x15,226,229)"
   ]
  },
  {
   "cell_type": "code",
   "execution_count": 146,
   "metadata": {},
   "outputs": [
    {
     "name": "stdout",
     "output_type": "stream",
     "text": [
      "\n",
      "z =\n",
      "\n",
      "    0.0099\n",
      "\n",
      "\n",
      "nf =\n",
      "\n",
      "  228.0027\n",
      "\n",
      "\n",
      "u514 =\n",
      "\n",
      " -51.9826 + 0.0000i\n",
      "\n"
     ]
    }
   ],
   "source": [
    "load FRF14.mat\n",
    "load Frequencies.mat\n",
    "\n",
    "[z,nf,u514]=vtb7_4(Frequencies,x14,226,229)"
   ]
  },
  {
   "cell_type": "code",
   "execution_count": 147,
   "metadata": {},
   "outputs": [
    {
     "name": "stdout",
     "output_type": "stream",
     "text": [
      "\n",
      "z =\n",
      "\n",
      "    0.0104\n",
      "\n",
      "\n",
      "nf =\n",
      "\n",
      "  228.3155\n",
      "\n",
      "\n",
      "u513 =\n",
      "\n",
      " -59.0174 + 0.0000i\n",
      "\n"
     ]
    }
   ],
   "source": [
    "load FRF13.mat\n",
    "load Frequencies.mat\n",
    "\n",
    "[z,nf,u513]=vtb7_4(Frequencies,x13,226,230)"
   ]
  },
  {
   "cell_type": "code",
   "execution_count": 148,
   "metadata": {},
   "outputs": [
    {
     "name": "stdout",
     "output_type": "stream",
     "text": [
      "\n",
      "z =\n",
      "\n",
      "    0.0112\n",
      "\n",
      "\n",
      "nf =\n",
      "\n",
      "  227.5572\n",
      "\n",
      "\n",
      "u512 =\n",
      "\n",
      "  42.3367 + 0.0000i\n",
      "\n"
     ]
    }
   ],
   "source": [
    "load FRF12.mat\n",
    "load Frequencies.mat\n",
    "\n",
    "[z,nf,u512]=vtb7_4(Frequencies,x12,226,230)"
   ]
  },
  {
   "cell_type": "code",
   "execution_count": 149,
   "metadata": {},
   "outputs": [
    {
     "name": "stdout",
     "output_type": "stream",
     "text": [
      "\n",
      "z =\n",
      "\n",
      "    0.0118\n",
      "\n",
      "\n",
      "nf =\n",
      "\n",
      "  228.2243\n",
      "\n",
      "\n",
      "u511 =\n",
      "\n",
      "  46.5489 + 0.0000i\n",
      "\n"
     ]
    }
   ],
   "source": [
    "load FRF11.mat\n",
    "load Frequencies.mat\n",
    "\n",
    "[z,nf,u511]=vtb7_4(Frequencies,x11,225,228)"
   ]
  },
  {
   "cell_type": "code",
   "execution_count": 150,
   "metadata": {},
   "outputs": [
    {
     "name": "stdout",
     "output_type": "stream",
     "text": [
      "\n",
      "z =\n",
      "\n",
      "    0.0119\n",
      "\n",
      "\n",
      "nf =\n",
      "\n",
      "  228.2293\n",
      "\n",
      "\n",
      "u510 =\n",
      "\n",
      "  50.4956 - 0.0000i\n",
      "\n"
     ]
    }
   ],
   "source": [
    "load FRF10.mat\n",
    "load Frequencies.mat\n",
    "\n",
    "[z,nf,u510]=vtb7_4(Frequencies,x10,225,228)"
   ]
  },
  {
   "cell_type": "code",
   "execution_count": 151,
   "metadata": {},
   "outputs": [
    {
     "name": "stdout",
     "output_type": "stream",
     "text": [
      "\n",
      "z =\n",
      "\n",
      "    0.0087\n",
      "\n",
      "\n",
      "nf =\n",
      "\n",
      "  227.9269\n",
      "\n",
      "\n",
      "u59 =\n",
      "\n",
      "  41.5272 - 0.0000i\n",
      "\n"
     ]
    }
   ],
   "source": [
    "load FRF9.mat\n",
    "load Frequencies.mat\n",
    "\n",
    "[z,nf,u59]=vtb7_4(Frequencies,x9,225,228)"
   ]
  },
  {
   "cell_type": "code",
   "execution_count": 152,
   "metadata": {},
   "outputs": [
    {
     "name": "stdout",
     "output_type": "stream",
     "text": [
      "\n",
      "z =\n",
      "\n",
      "    0.0099\n",
      "\n",
      "\n",
      "nf =\n",
      "\n",
      "  228.3273\n",
      "\n",
      "\n",
      "u58 =\n",
      "\n",
      "  47.0037 + 0.0000i\n",
      "\n"
     ]
    }
   ],
   "source": [
    "load FRF8.mat\n",
    "load Frequencies.mat\n",
    "\n",
    "[z,nf,u58]=vtb7_4(Frequencies,x8,225,228)"
   ]
  },
  {
   "cell_type": "code",
   "execution_count": 153,
   "metadata": {},
   "outputs": [
    {
     "name": "stdout",
     "output_type": "stream",
     "text": [
      "\n",
      "z =\n",
      "\n",
      "    0.0046\n",
      "\n",
      "\n",
      "nf =\n",
      "\n",
      "  227.8882\n",
      "\n",
      "\n",
      "u57 =\n",
      "\n",
      "  25.7726 + 0.0000i\n",
      "\n"
     ]
    }
   ],
   "source": [
    "load FRF7.mat\n",
    "load Frequencies.mat\n",
    "\n",
    "[z,nf,u57]=vtb7_4(Frequencies,x7,225,228.5)"
   ]
  },
  {
   "cell_type": "code",
   "execution_count": 22,
   "metadata": {},
   "outputs": [
    {
     "name": "stdout",
     "output_type": "stream",
     "text": [
      "DOF 1 of 1. Press return to plot next curve-fit FRF or end.\n",
      "\n",
      "z =\n",
      "\n",
      "    0.0010\n",
      "\n",
      "\n",
      "nf =\n",
      "\n",
      "  328.4112\n",
      "\n"
     ]
    }
   ],
   "source": [
    "load FRF6.mat\n",
    "load Frequencies.mat\n",
    "\n",
    "[z,nf,u66]=vtb7_4(Frequencies,x6,328,329)"
   ]
  },
  {
   "cell_type": "code",
   "execution_count": 20,
   "metadata": {},
   "outputs": [
    {
     "name": "stdout",
     "output_type": "stream",
     "text": [
      "\n",
      "z =\n",
      "\n",
      "    0.0010\n",
      "\n",
      "\n",
      "nf =\n",
      "\n",
      "  328.4245\n",
      "\n",
      "\n",
      "u65 =\n",
      "\n",
      " -57.0218 - 0.0000i\n",
      "\n"
     ]
    }
   ],
   "source": [
    "load FRF5.mat\n",
    "load Frequencies.mat\n",
    "\n",
    "[z,nf,u65]=vtb7_4(Frequencies,x5,328,329)"
   ]
  },
  {
   "cell_type": "code",
   "execution_count": 18,
   "metadata": {},
   "outputs": [
    {
     "name": "stdout",
     "output_type": "stream",
     "text": [
      "\n",
      "z =\n",
      "\n",
      "    0.0010\n",
      "\n",
      "\n",
      "nf =\n",
      "\n",
      "  328.4061\n",
      "\n",
      "\n",
      "u64 =\n",
      "\n",
      "  -2.0960e+02 - 1.6082e-11i\n",
      "\n"
     ]
    }
   ],
   "source": [
    "load FRF4.mat\n",
    "load Frequencies.mat\n",
    "\n",
    "[z,nf,u64]=vtb7_4(Frequencies,x4,328,329)"
   ]
  },
  {
   "cell_type": "code",
   "execution_count": 16,
   "metadata": {},
   "outputs": [
    {
     "name": "stdout",
     "output_type": "stream",
     "text": [
      "\n",
      "z =\n",
      "\n",
      "    0.0011\n",
      "\n",
      "\n",
      "nf =\n",
      "\n",
      "  328.4041\n",
      "\n",
      "\n",
      "u63 =\n",
      "\n",
      "   2.3896e+02 - 3.4203e-11i\n",
      "\n"
     ]
    }
   ],
   "source": [
    "load FRF3.mat\n",
    "load Frequencies.mat\n",
    "\n",
    "[z,nf,u63]=vtb7_4(Frequencies,x3,328,329)"
   ]
  },
  {
   "cell_type": "code",
   "execution_count": 14,
   "metadata": {},
   "outputs": [
    {
     "name": "stdout",
     "output_type": "stream",
     "text": [
      "\n",
      "z =\n",
      "\n",
      "    0.0011\n",
      "\n",
      "\n",
      "nf =\n",
      "\n",
      "  328.3929\n",
      "\n",
      "\n",
      "u62 =\n",
      "\n",
      " -40.6255 + 0.0000i\n",
      "\n"
     ]
    }
   ],
   "source": [
    "load FRF2.mat\n",
    "load Frequencies.mat\n",
    "\n",
    "[z,nf,u62]=vtb7_4(Frequencies,x2,328,329)"
   ]
  },
  {
   "cell_type": "code",
   "execution_count": 9,
   "metadata": {},
   "outputs": [
    {
     "name": "stdout",
     "output_type": "stream",
     "text": [
      "\n",
      "z =\n",
      "\n",
      "    0.0010\n",
      "\n",
      "\n",
      "nf =\n",
      "\n",
      "  328.4100\n",
      "\n",
      "\n",
      "u61 =\n",
      "\n",
      "  -2.6982e+02 + 7.6418e-13i\n",
      "\n"
     ]
    }
   ],
   "source": [
    "load FRF1.mat\n",
    "load Frequencies.mat\n",
    "\n",
    "[z,nf,u61]=vtb7_4(Frequencies,x1,328,329)"
   ]
  },
  {
   "cell_type": "code",
   "execution_count": 160,
   "metadata": {},
   "outputs": [
    {
     "name": "stdout",
     "output_type": "stream",
     "text": [
      "\n",
      "U =\n",
      "\n",
      "  83.9775 - 0.0000i\n",
      "  71.4115 + 0.0000i\n",
      "  69.2668 - 0.0000i\n",
      " -75.9709 + 0.0000i\n",
      " -65.7808 - 0.0000i\n",
      " -68.4836 - 0.0000i\n",
      "  25.7726 - 0.0000i\n",
      "  47.0037 - 0.0000i\n",
      "  41.5272 + 0.0000i\n",
      "  50.4956 + 0.0000i\n",
      "  46.5489 - 0.0000i\n",
      "  42.3367 - 0.0000i\n",
      " -59.0174 - 0.0000i\n",
      " -51.9826 - 0.0000i\n",
      " -52.4265 + 0.0000i\n",
      " -19.3185 - 0.0000i\n",
      " -33.2809 - 0.0000i\n",
      " -29.1047 - 0.0000i\n",
      "\n",
      "\n",
      "s =\n",
      "\n",
      "   83.9775\n",
      "   71.4115\n",
      "   69.2668\n",
      "  -75.9709\n",
      "  -65.7808\n",
      "  -68.4836\n",
      "   25.7726\n",
      "   47.0037\n",
      "   41.5272\n",
      "   50.4956\n",
      "   46.5489\n",
      "   42.3367\n",
      "  -59.0174\n",
      "  -51.9826\n",
      "  -52.4265\n",
      "  -19.3185\n",
      "  -33.2809\n",
      "  -29.1047\n",
      "\n"
     ]
    }
   ],
   "source": [
    "U=[u51 u52 u53 u54 u55 u56 u57 u58 u59 u510 u511 u512 u513 u514 u515 u516 u517 u518]'\n",
    "s=real(U)"
   ]
  },
  {
   "cell_type": "code",
   "execution_count": null,
   "metadata": {
    "collapsed": true
   },
   "outputs": [],
   "source": []
  }
 ],
 "metadata": {
  "kernelspec": {
   "display_name": "MATLAB",
   "language": "matlab",
   "name": "imatlab"
  },
  "language_info": {
   "codemirror_mode": "octave",
   "file_extension": ".m",
   "mimetype": "text/x-matlab",
   "name": "matlab",
   "nbconvert_exporter": "imatlab._exporter.MatlabExporter",
   "pygments_lexer": "matlab",
   "version": "9.2.0.556344 (R2017a)"
  }
 },
 "nbformat": 4,
 "nbformat_minor": 2
}
