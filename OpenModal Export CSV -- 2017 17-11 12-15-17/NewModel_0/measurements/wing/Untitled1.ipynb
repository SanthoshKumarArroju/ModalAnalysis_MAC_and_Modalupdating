{
 "cells": [
  {
   "cell_type": "code",
   "execution_count": 1,
   "metadata": {},
   "outputs": [],
   "source": [
    "%load_ext autoreload\n",
    "%autoreload 2\n",
    "%matplotlib inline\n",
    "import vibrationtesting as vt\n",
    "import matplotlib.pyplot as plt\n",
    "import numpy as np\n",
    "import array_to_latex as a2t\n",
    "np.set_printoptions(precision = 9, linewidth = 220, suppress = True)"
   ]
  },
  {
   "cell_type": "code",
   "execution_count": 2,
   "metadata": {},
   "outputs": [
    {
     "data": {
      "text/plain": [
       "array([[-0.163992639,  0.368488115, -0.295504524],\n",
       "       [-0.295504524,  0.163992639,  0.368488115],\n",
       "       [-0.368488115, -0.295504524, -0.163992639]])"
      ]
     },
     "execution_count": 2,
     "metadata": {},
     "output_type": "execute_result"
    }
   ],
   "source": [
    "M = np.array([[4, 0, 0],\n",
    "              [0, 4, 0],\n",
    "              [0, 0, 4]])\n",
    "Cso = np.array([[1,0,0],\n",
    "                [0,0,0],\n",
    "                [0,0,0]])\n",
    "K = np.array([[8, -4, 0],\n",
    "              [-4, 8, -4],\n",
    "              [0, -4, 4]])\n",
    "omega, _, Psi_true = vt.sos_modal(M, K)\n",
    "Bt = np.array([[1],[0],[0]])\n",
    "Ca = np.array([[1,0,0]])\n",
    "Cd = Cv = np.zeros_like(Ca)\n",
    "A, B, C, D = vt.so2ss(M, Cso, K, Bt, Cd, Cv, Ca)\n",
    "Am, Bm, Cm, Dm, eigenvalues, modes = vt.ss_modal(A, B, C, D)\n",
    "Psi = vt.real_modes(modes[:,0::2])\n",
    "Psi_true"
   ]
  },
  {
   "cell_type": "code",
   "execution_count": 3,
   "metadata": {},
   "outputs": [
    {
     "data": {
      "text/plain": [
       "array([[4, 0, 0],\n",
       "       [0, 4, 0],\n",
       "       [0, 0, 4]])"
      ]
     },
     "execution_count": 3,
     "metadata": {},
     "output_type": "execute_result"
    }
   ],
   "source": [
    "M = np.array([[4, 0, 0],\n",
    "              [0, 4, 0],\n",
    "              [0, 0, 4]])\n",
    "M"
   ]
  },
  {
   "cell_type": "code",
   "execution_count": 4,
   "metadata": {},
   "outputs": [
    {
     "data": {
      "text/plain": [
       "36"
      ]
     },
     "execution_count": 4,
     "metadata": {},
     "output_type": "execute_result"
    }
   ],
   "source": [
    " Psi1=np.array([5.2417 + 0.0000j,\n",
    "   4.6872 - 0.0000j,\n",
    "   4.3684 + 0.0000j,\n",
    "   3.5191 + 0.0000j,\n",
    "   3.9937 - 0.0000j,\n",
    "   4.1108 + 0.0000j,\n",
    "   3.9124 + 0.0000j,\n",
    "   3.3597 + 0.0000j,\n",
    "   3.3037 - 0.0000j,\n",
    "   2.2772 - 0.0000j,\n",
    "   2.1815 + 0.0000j,\n",
    "   2.0369 - 0.0000j,\n",
    "   1.5121 + 0.0000j,\n",
    "   2.0598 - 0.0000j,\n",
    "   1.7186 - 0.0000j,\n",
    "  -1.3788 + 0.0000j,\n",
    "   3.7773 + 0.0000j,\n",
    "   0.4700 + 0.0000j])\n",
    " complex_modes1=np.transpose(Psi1)\n",
    "Psi2=np.array([-27.1276 + 0.0000j,\n",
    " -26.9457 + 0.0000j,\n",
    " -25.1219 - 0.0000j,\n",
    "  -7.3076 + 0.0000j,\n",
    "  -8.5504 - 0.0000j,\n",
    "  -7.7927 + 0.0000j,\n",
    "  17.9836 - 0.0000j,\n",
    "  17.1589 - 0.0000j,\n",
    "  17.9225 + 0.0000j,\n",
    "  17.7046 + 0.0000j,\n",
    "  17.6982 - 0.0000j,\n",
    "  17.4871 - 0.0000j,\n",
    "  12.6957 - 0.0000j,\n",
    "  12.6223 + 0.0000j,\n",
    "  12.3028 - 0.0000j,\n",
    "   4.8623 + 0.0000j,\n",
    "   7.6143 - 0.0000j,\n",
    "   4.0450 + 0.0000j])\n",
    "complex_modes2=np.transpose(Psi2)\n",
    "complex_modes=np.array([[complex_modes1],\n",
    "                        [complex_modes2]])\n",
    "np.size(complex_modes)"
   ]
  },
  {
   "cell_type": "code",
   "execution_count": 5,
   "metadata": {},
   "outputs": [
    {
     "ename": "ValueError",
     "evalue": "Input must be 1- or 2-d.",
     "output_type": "error",
     "traceback": [
      "\u001b[0;31m---------------------------------------------------------------------------\u001b[0m",
      "\u001b[0;31mValueError\u001b[0m                                Traceback (most recent call last)",
      "\u001b[0;32m<ipython-input-5-407174b63936>\u001b[0m in \u001b[0;36m<module>\u001b[0;34m()\u001b[0m\n\u001b[0;32m----> 1\u001b[0;31m \u001b[0mcomplex_modes\u001b[0m \u001b[0;34m=\u001b[0m \u001b[0mcomplex_modes\u001b[0m\u001b[0;34m@\u001b[0m\u001b[0mnp\u001b[0m\u001b[0;34m.\u001b[0m\u001b[0mlinalg\u001b[0m\u001b[0;34m.\u001b[0m\u001b[0minv\u001b[0m\u001b[0;34m(\u001b[0m\u001b[0mnp\u001b[0m\u001b[0;34m.\u001b[0m\u001b[0mdiag\u001b[0m\u001b[0;34m(\u001b[0m\u001b[0mnp\u001b[0m\u001b[0;34m.\u001b[0m\u001b[0mdiag\u001b[0m\u001b[0;34m(\u001b[0m\u001b[0mcomplex_modes\u001b[0m\u001b[0;34m)\u001b[0m\u001b[0;34m)\u001b[0m\u001b[0;34m)\u001b[0m\u001b[0;34m\u001b[0m\u001b[0m\n\u001b[0m\u001b[1;32m      2\u001b[0m \u001b[0mPsi_est\u001b[0m \u001b[0;34m=\u001b[0m \u001b[0mvt\u001b[0m\u001b[0;34m.\u001b[0m\u001b[0mreal_modes\u001b[0m\u001b[0;34m(\u001b[0m\u001b[0mcomplex_modes\u001b[0m\u001b[0;34m)\u001b[0m\u001b[0;34m\u001b[0m\u001b[0m\n",
      "\u001b[0;32m/usr/local/lib/python3.5/dist-packages/numpy/lib/twodim_base.py\u001b[0m in \u001b[0;36mdiag\u001b[0;34m(v, k)\u001b[0m\n\u001b[1;32m    257\u001b[0m         \u001b[0;32mreturn\u001b[0m \u001b[0mdiagonal\u001b[0m\u001b[0;34m(\u001b[0m\u001b[0mv\u001b[0m\u001b[0;34m,\u001b[0m \u001b[0mk\u001b[0m\u001b[0;34m)\u001b[0m\u001b[0;34m\u001b[0m\u001b[0m\n\u001b[1;32m    258\u001b[0m     \u001b[0;32melse\u001b[0m\u001b[0;34m:\u001b[0m\u001b[0;34m\u001b[0m\u001b[0m\n\u001b[0;32m--> 259\u001b[0;31m         \u001b[0;32mraise\u001b[0m \u001b[0mValueError\u001b[0m\u001b[0;34m(\u001b[0m\u001b[0;34m\"Input must be 1- or 2-d.\"\u001b[0m\u001b[0;34m)\u001b[0m\u001b[0;34m\u001b[0m\u001b[0m\n\u001b[0m\u001b[1;32m    260\u001b[0m \u001b[0;34m\u001b[0m\u001b[0m\n\u001b[1;32m    261\u001b[0m \u001b[0;34m\u001b[0m\u001b[0m\n",
      "\u001b[0;31mValueError\u001b[0m: Input must be 1- or 2-d."
     ]
    }
   ],
   "source": [
    "complex_modes = complex_modes@np.linalg.inv(np.diag(np.diag(complex_modes)))\n",
    "Psi_est = vt.real_modes(complex_modes)"
   ]
  },
  {
   "cell_type": "code",
   "execution_count": 14,
   "metadata": {},
   "outputs": [
    {
     "name": "stdout",
     "output_type": "stream",
     "text": [
      "[[-0.163992639 -0.15       ]\n",
      " [-0.295504524  0.288578229]\n",
      " [-0.368488115 -0.37       ]]\n",
      "0.445041867913\n",
      "[[-0.15]\n",
      " [-0.37]]\n",
      "[ 0.445041868  1.246979604  1.801937736]\n",
      "[[-0.163992639  0.368488115 -0.295504524]\n",
      " [-0.295504524  0.163992639  0.368488115]\n",
      " [-0.368488115 -0.295504524 -0.163992639]]\n"
     ]
    }
   ],
   "source": [
    "    M = np.array([[4, 0, 0],\n",
    "                  [0, 4, 0],\n",
    "                  [0, 0, 4]])\n",
    "    K = np.array([[8, -4, 0],\n",
    "                  [-4, 8, -4],\n",
    "                  [0, -4, 4]])\n",
    "    measured = np.array([[0, 2]])\n",
    "    omega, zeta, Psi = vt.sos_modal(M, K)\n",
    "    Psi_measured = np.array([[-0.15], [-0.37]])\n",
    "    Psi_full = vt.mode_expansion_from_model(Psi_measured, omega[0], M, K, measured)\n",
    "    print(np.hstack((Psi[:,0].reshape(-1,1), Psi_full)))\n",
    "    print(omega[0])\n",
    "    print(Psi_measured)\n",
    "    print(omega)\n",
    "    print(Psi)"
   ]
  },
  {
   "cell_type": "code",
   "execution_count": null,
   "metadata": {
    "collapsed": true
   },
   "outputs": [],
   "source": []
  }
 ],
 "metadata": {
  "kernelspec": {
   "display_name": "Python 3",
   "language": "python",
   "name": "python3"
  },
  "language_info": {
   "codemirror_mode": {
    "name": "ipython",
    "version": 3
   },
   "file_extension": ".py",
   "mimetype": "text/x-python",
   "name": "python",
   "nbconvert_exporter": "python",
   "pygments_lexer": "ipython3",
   "version": "3.5.2"
  }
 },
 "nbformat": 4,
 "nbformat_minor": 2
}
