{
 "cells": [
  {
   "cell_type": "markdown",
   "metadata": {},
   "source": [
    "# Modal Analysis of a Wing"
   ]
  },
  {
   "cell_type": "code",
   "execution_count": 51,
   "metadata": {
    "collapsed": true
   },
   "outputs": [],
   "source": [
    "clear all\n",
    "close all\n",
    "clc\n",
    "%imatlab_export_fig('print-png')"
   ]
  },
  {
   "cell_type": "markdown",
   "metadata": {},
   "source": [
    "At first natural frequency for all 18 points on the wing\n",
    "--"
   ]
  },
  {
   "cell_type": "code",
   "execution_count": 160,
   "metadata": {},
   "outputs": [],
   "source": [
    "load 18.mat\n",
    "H=20*log10(abs(Hf_chan_2));% in dB\n",
    "f=Freq_domain; % in Hz\n",
    "plot(f, H)"
   ]
  },
  {
   "cell_type": "code",
   "execution_count": 185,
   "metadata": {},
   "outputs": [
    {
     "name": "stdout",
     "output_type": "stream",
     "text": [
      "> In vtb7_4 (line 132)\n",
      "Warning: Rank deficient, rank = 4, tol =  1.192854e-01.\n",
      "> In vtb7_4 (line 162)\n",
      "Warning: Rank deficient, rank = 2, tol =  1.752012e-05.\n",
      "DOF 1 of 1. Press return to plot next curve-fit FRF or end.\n"
     ]
    }
   ],
   "source": [
    "%no peak\n",
    "load 18.mat\n",
    "u118=0;\n",
    "[z,nf]=vtb7_4(Freq_domain,Hf_chan_2,12.9,13.3);"
   ]
  },
  {
   "cell_type": "code",
   "execution_count": 186,
   "metadata": {},
   "outputs": [
    {
     "name": "stdout",
     "output_type": "stream",
     "text": [
      "> In vtb7_4 (line 132)\n",
      "Warning: Rank deficient, rank = 4, tol =  1.706952e+00.\n",
      "> In vtb7_4 (line 162)\n",
      "Warning: Rank deficient, rank = 2, tol =  2.574921e-04.\n"
     ]
    }
   ],
   "source": [
    "%no peak\n",
    "load 17.mat\n",
    "u117=0;\n",
    "[z,nf,u]=vtb7_4(Freq_domain,Hf_chan_2,10,15);"
   ]
  },
  {
   "cell_type": "code",
   "execution_count": 187,
   "metadata": {},
   "outputs": [
    {
     "name": "stdout",
     "output_type": "stream",
     "text": [
      "> In vtb7_4 (line 132)\n",
      "Warning: Rank deficient, rank = 4, tol =  1.250268e-01.\n",
      "> In vtb7_4 (line 162)\n",
      "Warning: Rank deficient, rank = 2, tol =  1.752012e-05.\n"
     ]
    }
   ],
   "source": [
    "load 16.mat\n",
    "\n",
    "[z,nf,u116]=vtb7_4(Freq_domain,Hf_chan_2,13.3,13.7);"
   ]
  },
  {
   "cell_type": "code",
   "execution_count": 188,
   "metadata": {},
   "outputs": [
    {
     "name": "stdout",
     "output_type": "stream",
     "text": [
      "> In vtb7_4 (line 132)\n",
      "Warning: Rank deficient, rank = 4, tol =  1.250268e-01.\n",
      "> In vtb7_4 (line 162)\n",
      "Warning: Rank deficient, rank = 2, tol =  1.752012e-05.\n"
     ]
    }
   ],
   "source": [
    "load 15.mat\n",
    "\n",
    "[z,nf,u115]=vtb7_4(Freq_domain,Hf_chan_2,13.2,13.7);"
   ]
  },
  {
   "cell_type": "code",
   "execution_count": 180,
   "metadata": {},
   "outputs": [
    {
     "name": "stdout",
     "output_type": "stream",
     "text": [
      "> In vtb7_4 (line 132)\n",
      "Warning: Rank deficient, rank = 4, tol =  1.250268e-01.\n",
      "> In vtb7_4 (line 162)\n",
      "Warning: Rank deficient, rank = 2, tol =  1.752012e-05.\n",
      "\n",
      "z =\n",
      "\n",
      "  single\n",
      "\n",
      "    0.0039\n",
      "\n",
      "\n",
      "nf =\n",
      "\n",
      "  single\n",
      "\n",
      "   13.5584\n",
      "\n",
      "\n",
      "u114 =\n",
      "\n",
      "  single\n",
      "\n",
      "  77.6525 - 0.0001i\n",
      "\n"
     ]
    }
   ],
   "source": [
    "load 14.mat\n",
    "\n",
    "[z,nf,u114]=vtb7_4(Freq_domain,Hf_chan_2,13.2,13.7)"
   ]
  },
  {
   "cell_type": "code",
   "execution_count": 189,
   "metadata": {},
   "outputs": [
    {
     "name": "stdout",
     "output_type": "stream",
     "text": [
      "> In vtb7_4 (line 132)\n",
      "Warning: Rank deficient, rank = 4, tol =  1.998340e-01.\n",
      "DOF 1 of 1. Press return to plot next curve-fit FRF or end.\n"
     ]
    }
   ],
   "source": [
    "% no peak \n",
    "load 13.mat\n",
    "u113=0;\n",
    "[z,nf]=vtb7_4(Freq_domain,Hf_chan_2,11,12);"
   ]
  },
  {
   "cell_type": "code",
   "execution_count": 190,
   "metadata": {},
   "outputs": [
    {
     "name": "stdout",
     "output_type": "stream",
     "text": [
      "> In vtb7_4 (line 132)\n",
      "Warning: Rank deficient, rank = 4, tol =  1.250268e-01.\n",
      "> In vtb7_4 (line 162)\n",
      "Warning: Rank deficient, rank = 2, tol =  1.752012e-05.\n"
     ]
    }
   ],
   "source": [
    "load 12.mat\n",
    "\n",
    "[z,nf,u112]=vtb7_4(Freq_domain,Hf_chan_2,13.4,13.7);"
   ]
  },
  {
   "cell_type": "code",
   "execution_count": 191,
   "metadata": {},
   "outputs": [
    {
     "name": "stdout",
     "output_type": "stream",
     "text": [
      "> In vtb7_4 (line 132)\n",
      "Warning: Rank deficient, rank = 4, tol =  1.250268e-01.\n",
      "> In vtb7_4 (line 162)\n",
      "Warning: Rank deficient, rank = 2, tol =  1.752012e-05.\n"
     ]
    }
   ],
   "source": [
    "load 11.mat\n",
    "\n",
    "[z,nf,u111]=vtb7_4(Freq_domain,Hf_chan_2,13.4,13.6);"
   ]
  },
  {
   "cell_type": "code",
   "execution_count": 192,
   "metadata": {},
   "outputs": [
    {
     "name": "stdout",
     "output_type": "stream",
     "text": [
      "> In vtb7_4 (line 162)\n",
      "Warning: Rank deficient, rank = 2, tol =  9.536743e-06.\n"
     ]
    }
   ],
   "source": [
    "load 10.mat\n",
    "\n",
    "[z,nf,u110]=vtb7_4(Freq_domain,Hf_chan_2,13.5,13.6);"
   ]
  },
  {
   "cell_type": "code",
   "execution_count": 193,
   "metadata": {},
   "outputs": [
    {
     "name": "stdout",
     "output_type": "stream",
     "text": [
      "> In vtb7_4 (line 132)\n",
      "Warning: Rank deficient, rank = 4, tol =  2.782545e-01.\n",
      "> In vtb7_4 (line 162)\n",
      "Warning: Rank deficient, rank = 2, tol =  2.697398e-05.\n"
     ]
    }
   ],
   "source": [
    "load 9.mat\n",
    "\n",
    "[z,nf,u19]=vtb7_4(Freq_domain,Hf_chan_2,13.4,13.8);"
   ]
  },
  {
   "cell_type": "code",
   "execution_count": 194,
   "metadata": {},
   "outputs": [
    {
     "name": "stdout",
     "output_type": "stream",
     "text": [
      "> In vtb7_4 (line 132)\n",
      "Warning: Rank deficient, rank = 4, tol =  2.695951e-01.\n",
      "> In vtb7_4 (line 162)\n",
      "Warning: Rank deficient, rank = 2, tol =  3.769729e-05.\n"
     ]
    }
   ],
   "source": [
    "load 8.mat\n",
    "\n",
    "[z,nf,u18]=vtb7_4(Freq_domain,Hf_chan_2,13,14);"
   ]
  },
  {
   "cell_type": "code",
   "execution_count": 196,
   "metadata": {},
   "outputs": [
    {
     "name": "stdout",
     "output_type": "stream",
     "text": [
      "> In vtb7_4 (line 132)\n",
      "Warning: Rank deficient, rank = 4, tol =  1.953561e-01.\n",
      "> In vtb7_4 (line 162)\n",
      "Warning: Rank deficient, rank = 2, tol =  1.752012e-05.\n"
     ]
    }
   ],
   "source": [
    "load 7.mat\n",
    "\n",
    "[z,nf,u17]=vtb7_4(Freq_domain,Hf_chan_2,13.5,13.9);"
   ]
  },
  {
   "cell_type": "code",
   "execution_count": 198,
   "metadata": {},
   "outputs": [
    {
     "name": "stdout",
     "output_type": "stream",
     "text": [
      "> In vtb7_4 (line 132)\n",
      "Warning: Rank deficient, rank = 4, tol =  3.749980e-01.\n",
      "> In vtb7_4 (line 162)\n",
      "Warning: Rank deficient, rank = 2, tol =  1.752012e-05.\n"
     ]
    }
   ],
   "source": [
    "load 6.mat\n",
    "\n",
    "[z,nf,u16]=vtb7_4(Freq_domain,Hf_chan_2,13.5,14);"
   ]
  },
  {
   "cell_type": "code",
   "execution_count": 199,
   "metadata": {},
   "outputs": [
    {
     "name": "stdout",
     "output_type": "stream",
     "text": [
      "> In vtb7_4 (line 132)\n",
      "Warning: Rank deficient, rank = 4, tol =  4.660005e-01.\n",
      "> In vtb7_4 (line 162)\n",
      "Warning: Rank deficient, rank = 2, tol =  1.752012e-05.\n"
     ]
    }
   ],
   "source": [
    "load 5.mat\n",
    "\n",
    "[z,nf,u15]=vtb7_4(Freq_domain,Hf_chan_2,13.5,13.9);"
   ]
  },
  {
   "cell_type": "code",
   "execution_count": 200,
   "metadata": {},
   "outputs": [
    {
     "name": "stdout",
     "output_type": "stream",
     "text": [
      "> In vtb7_4 (line 132)\n",
      "Warning: Rank deficient, rank = 4, tol =  3.362238e-01.\n",
      "> In vtb7_4 (line 162)\n",
      "Warning: Rank deficient, rank = 2, tol =  1.752012e-05.\n"
     ]
    }
   ],
   "source": [
    "load 4.mat\n",
    "\n",
    "[z,nf,u14]=vtb7_4(Freq_domain,Hf_chan_2,13.4,13.6);"
   ]
  },
  {
   "cell_type": "code",
   "execution_count": 201,
   "metadata": {},
   "outputs": [
    {
     "name": "stdout",
     "output_type": "stream",
     "text": [
      "> In vtb7_4 (line 162)\n",
      "Warning: Rank deficient, rank = 2, tol =  9.536743e-06.\n"
     ]
    }
   ],
   "source": [
    "load 3.mat\n",
    "\n",
    "[z,nf,u13]=vtb7_4(Freq_domain,Hf_chan_2,13.5,13.6);"
   ]
  },
  {
   "cell_type": "code",
   "execution_count": 202,
   "metadata": {},
   "outputs": [
    {
     "name": "stdout",
     "output_type": "stream",
     "text": [
      "> In vtb7_4 (line 132)\n",
      "Warning: Rank deficient, rank = 4, tol =  3.564904e-01.\n",
      "> In vtb7_4 (line 162)\n",
      "Warning: Rank deficient, rank = 2, tol =  1.752012e-05.\n"
     ]
    }
   ],
   "source": [
    "load 2.mat\n",
    "\n",
    "[z,nf,u12]=vtb7_4(Freq_domain,Hf_chan_2,13.5,14);"
   ]
  },
  {
   "cell_type": "code",
   "execution_count": 203,
   "metadata": {},
   "outputs": [
    {
     "name": "stdout",
     "output_type": "stream",
     "text": [
      "> In vtb7_4 (line 132)\n",
      "Warning: Rank deficient, rank = 4, tol =  3.807608e-01.\n",
      "> In vtb7_4 (line 162)\n",
      "Warning: Rank deficient, rank = 2, tol =  1.752012e-05.\n"
     ]
    }
   ],
   "source": [
    "load 1.mat\n",
    "\n",
    "[z,nf,u11]=vtb7_4(Freq_domain,Hf_chan_2,13.4,13.5);"
   ]
  },
  {
   "cell_type": "code",
   "execution_count": 206,
   "metadata": {},
   "outputs": [
    {
     "name": "stdout",
     "output_type": "stream",
     "text": [
      "\n",
      "U =\n",
      "\n",
      "  18×1 single column vector\n",
      "\n",
      "   1.0e+02 *\n",
      "\n",
      "   2.1533 + 0.0000i\n",
      "   1.9792 - 0.0000i\n",
      "   2.8134 + 0.0000i\n",
      "   2.0048 + 0.0000i\n",
      "   2.2254 - 0.0000i\n",
      "   2.1286 - 0.0000i\n",
      "   1.4773 - 0.0000i\n",
      "   1.3046 - 0.0000i\n",
      "   1.5489 + 0.0000i\n",
      "   1.2238 + 0.0000i\n",
      "   0.9916 + 0.0000i\n",
      "   0.9135 + 0.0000i\n",
      "   0.0000 + 0.0000i\n",
      "   0.7765 + 0.0000i\n",
      "   0.6862 + 0.0000i\n",
      "  -0.3898 + 0.0000i\n",
      "   0.0000 + 0.0000i\n",
      "   0.0000 + 0.0000i\n",
      "\n",
      "\n",
      "s =\n",
      "\n",
      "  18×1 single column vector\n",
      "\n",
      "  215.3317\n",
      "  197.9222\n",
      "  281.3400\n",
      "  200.4842\n",
      "  222.5437\n",
      "  212.8587\n",
      "  147.7333\n",
      "  130.4596\n",
      "  154.8919\n",
      "  122.3820\n",
      "   99.1578\n",
      "   91.3499\n",
      "         0\n",
      "   77.6525\n",
      "   68.6216\n",
      "  -38.9823\n",
      "         0\n",
      "         0\n",
      "\n"
     ]
    }
   ],
   "source": [
    "U=[u11 u12 u13 u14 u15 u16 u17 u18 u19 u110 u111 u112 u113 u114 u115 u116 u117 u118]'\n",
    "s=real(U)"
   ]
  },
  {
   "cell_type": "code",
   "execution_count": null,
   "metadata": {
    "collapsed": true
   },
   "outputs": [],
   "source": []
  }
 ],
 "metadata": {
  "kernelspec": {
   "display_name": "MATLAB",
   "language": "matlab",
   "name": "imatlab"
  },
  "language_info": {
   "codemirror_mode": "octave",
   "file_extension": ".m",
   "mimetype": "text/x-matlab",
   "name": "matlab",
   "nbconvert_exporter": "imatlab._exporter.MatlabExporter",
   "pygments_lexer": "matlab",
   "version": "9.2.0.556344 (R2017a)"
  }
 },
 "nbformat": 4,
 "nbformat_minor": 2
}
