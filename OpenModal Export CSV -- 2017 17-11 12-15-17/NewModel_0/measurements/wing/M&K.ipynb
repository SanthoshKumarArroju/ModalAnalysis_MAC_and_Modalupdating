{
 "cells": [
  {
   "cell_type": "markdown",
   "metadata": {},
   "source": [
    "# Modal Analysis of a Wing"
   ]
  },
  {
   "cell_type": "code",
   "execution_count": 2,
   "metadata": {
    "collapsed": true
   },
   "outputs": [],
   "source": [
    "clear all\n",
    "close all\n",
    "clc\n",
    "%imatlab_export_fig('print-png')"
   ]
  },
  {
   "cell_type": "markdown",
   "metadata": {},
   "source": [
    "At first natural frequency for all 18 points on the wing\n",
    "--"
   ]
  },
  {
   "cell_type": "code",
   "execution_count": 18,
   "metadata": {
    "collapsed": true
   },
   "outputs": [],
   "source": [
    "load FRF1.mat\n",
    "load FRF2.mat\n",
    "load FRF3.mat\n",
    "load FRF4.mat\n",
    "load FRF5.mat\n",
    "load FRF6.mat\n",
    "load FRF7.mat\n",
    "load FRF8.mat\n",
    "load FRF9.mat\n",
    "load FRF10.mat\n",
    "load FRF11.mat\n",
    "load FRF12.mat\n",
    "load FRF13.mat\n",
    "load FRF14.mat\n",
    "load FRF15.mat\n",
    "load FRF16.mat\n",
    "load FRF17.mat\n",
    "load FRF18.mat\n",
    "load Frequencies.mat\n",
    "load 1stNaturalFreq.mat\n",
    "load 2ndNaturalFreq.mat\n",
    "load 3rdNaturalFreq.mat\n",
    "load 4rthNaturalFreq.mat\n",
    "load 5thNaturalFreq.mat\n",
    "load 6thNaturalFreq.mat\n",
    "\n",
    "%TF=[x1 x2 x3 x4 x5 x6 x7 x8 x9 x10 x11 x12 x13 x14 x15 x16 x17 x18];\n",
    "\n",
    "\n",
    "\n",
    "\n",
    "lamda=zeros(6);\n",
    "z=zeros(6);\n",
    "%s=zeros(18);\n",
    "\n",
    "%z(3,3)=z3\n",
    "%lamda=(2*pi*nf3)\n",
    "%s(:,3)=real(u3)"
   ]
  },
  {
   "cell_type": "code",
   "execution_count": 34,
   "metadata": {},
   "outputs": [
    {
     "name": "stdout",
     "output_type": "stream",
     "text": [
      "\n",
      "s =\n",
      "\n",
      "     0     0     0     0     0     0\n",
      "     0     0     0     0     0     0\n",
      "     0     0     0     0     0     0\n",
      "     0     0     0     0     0     0\n",
      "     0     0     0     0     0     0\n",
      "     0     0     0     0     0     0\n",
      "     0     0     0     0     0     0\n",
      "     0     0     0     0     0     0\n",
      "     0     0     0     0     0     0\n",
      "     0     0     0     0     0     0\n",
      "     0     0     0     0     0     0\n",
      "     0     0     0     0     0     0\n",
      "     0     0     0     0     0     0\n",
      "     0     0     0     0     0     0\n",
      "     0     0     0     0     0     0\n",
      "     0     0     0     0     0     0\n",
      "     0     0     0     0     0     0\n",
      "     0     0     0     0     0     0\n",
      "\n"
     ]
    }
   ],
   "source": [
    "%s=[U1 U2 U3 U4 U5 U6]'\n",
    "s=zeros(18,6)\n"
   ]
  },
  {
   "cell_type": "code",
   "execution_count": 35,
   "metadata": {},
   "outputs": [
    {
     "name": "stdout",
     "output_type": "stream",
     "text": [
      "\n",
      "s =\n",
      "\n",
      "    5.2417  -27.1276   52.8435  107.2101   71.1391 -269.8173\n",
      "    4.6872  -26.9457   52.1832   -7.8334   71.4115  -40.6255\n",
      "    4.3684  -25.1219   51.5975  -99.1592   69.2668  238.9628\n",
      "    3.5191   -7.3076  -36.8711  112.4329  -75.9709 -209.5999\n",
      "    3.9937   -8.5504  -37.0145   34.4943  -65.7808  -57.0218\n",
      "    4.1108   -7.7927  -38.9035  -97.1402  -68.4836  185.3561\n",
      "    3.9124   17.9836  -33.8779  101.2253   30.7162   95.9682\n",
      "    3.3597   17.1589  -35.6752   37.8817   46.8134  -11.4200\n",
      "    3.3037   17.9225  -34.0003  -88.2444   41.5272 -103.9544\n",
      "    2.2772   17.7046   27.5315   84.3382   50.4956  198.2678\n",
      "    2.1815   17.6982   28.0879   20.1857   46.5489   61.6757\n",
      "    2.0369   17.4871   29.0961  -75.8177   42.3367 -171.4264\n",
      "    1.5121   12.6957   33.4340   58.6297  -59.0174  177.3106\n",
      "    2.0598   12.6223   34.4364   16.0369  -51.9826   57.1353\n",
      "    1.7186   12.3028   32.7546  -57.7409  -52.4265 -168.8345\n",
      "   -1.3788    4.8623   13.3552   27.0095  -19.3185   87.3535\n",
      "    3.7773    7.6143   20.3010    6.7558  -33.6951   19.7490\n",
      "    0.4700    4.0450   14.3314  -26.9769  -29.1047  -85.8600\n",
      "\n"
     ]
    }
   ],
   "source": [
    "s(:,1)=real(U1);\n",
    "s(:,2)=real(U2);\n",
    "s(:,3)=real(U3);\n",
    "s(:,4)=real(U4);\n",
    "s(:,5)=real(U5);\n",
    "s(:,6)=real(U6);\n",
    "s"
   ]
  },
  {
   "cell_type": "code",
   "execution_count": 36,
   "metadata": {},
   "outputs": [
    {
     "name": "stderr",
     "output_type": "stream",
     "text": [
      "Error using /\n",
      "Matrix dimensions must agree.\n",
      "\n"
     ]
    }
   ],
   "source": [
    "%s=[U1:U6];\n",
    "M=s'/eye(6)\\s;\n",
    "%C=s'/(2*z*sqrt(lamda))\\s;\n",
    "%K=s'/lamda\\s;\n",
    "%m=vpa(M,8);\n",
    "%k=vpa(K,8);\n",
    "%c=vpa(C,8);\n",
    "eye(6)\n",
    "s'"
   ]
  },
  {
   "cell_type": "code",
   "execution_count": 3,
   "metadata": {},
   "outputs": [
    {
     "name": "stdout",
     "output_type": "stream",
     "text": [
      "\n",
      "z =\n",
      "\n",
      "    0.0010\n",
      "\n",
      "\n",
      "nf =\n",
      "\n",
      "  328.4052\n",
      "\n",
      "\n",
      "u618 =\n",
      "\n",
      " -85.8600 + 0.0000i\n",
      "\n"
     ]
    }
   ],
   "source": [
    "load FRF18.mat\n",
    "load Frequencies.mat\n",
    "[z,nf,u618]=vtb7_4(Frequencies,x18,328,329)"
   ]
  },
  {
   "cell_type": "code",
   "execution_count": 4,
   "metadata": {},
   "outputs": [
    {
     "name": "stdout",
     "output_type": "stream",
     "text": [
      "\n",
      "z =\n",
      "\n",
      "    0.0051\n",
      "\n",
      "\n",
      "nf =\n",
      "\n",
      "  328.3252\n",
      "\n",
      "\n",
      "u617 =\n",
      "\n",
      "  19.7490 - 0.0000i\n",
      "\n"
     ]
    }
   ],
   "source": [
    "load FRF17.mat\n",
    "load Frequencies.mat\n",
    "\n",
    "[z,nf,u617]=vtb7_4(Frequencies,x17,328,329)"
   ]
  },
  {
   "cell_type": "code",
   "execution_count": 5,
   "metadata": {},
   "outputs": [
    {
     "name": "stdout",
     "output_type": "stream",
     "text": [
      "\n",
      "z =\n",
      "\n",
      "    0.0010\n",
      "\n",
      "\n",
      "nf =\n",
      "\n",
      "  328.4057\n",
      "\n",
      "\n",
      "u616 =\n",
      "\n",
      "  87.3535 + 0.0000i\n",
      "\n"
     ]
    }
   ],
   "source": [
    "load FRF16.mat\n",
    "load Frequencies.mat\n",
    "\n",
    "[z,nf,u616]=vtb7_4(Frequencies,x16,328,329)"
   ]
  },
  {
   "cell_type": "code",
   "execution_count": 6,
   "metadata": {},
   "outputs": [
    {
     "name": "stdout",
     "output_type": "stream",
     "text": [
      "\n",
      "z =\n",
      "\n",
      "    0.0010\n",
      "\n",
      "\n",
      "nf =\n",
      "\n",
      "  328.4036\n",
      "\n",
      "\n",
      "u615 =\n",
      "\n",
      "  -1.6883e+02 + 3.8360e-11i\n",
      "\n"
     ]
    }
   ],
   "source": [
    "load FRF15.mat\n",
    "load Frequencies.mat\n",
    "\n",
    "[z,nf,u615]=vtb7_4(Frequencies,x15,328,329)"
   ]
  },
  {
   "cell_type": "code",
   "execution_count": 7,
   "metadata": {},
   "outputs": [
    {
     "name": "stdout",
     "output_type": "stream",
     "text": [
      "\n",
      "z =\n",
      "\n",
      "    0.0010\n",
      "\n",
      "\n",
      "nf =\n",
      "\n",
      "  328.3996\n",
      "\n",
      "\n",
      "u614 =\n",
      "\n",
      "  57.1353 - 0.0000i\n",
      "\n"
     ]
    }
   ],
   "source": [
    "load FRF14.mat\n",
    "load Frequencies.mat\n",
    "\n",
    "[z,nf,u614]=vtb7_4(Frequencies,x14,328,329)"
   ]
  },
  {
   "cell_type": "code",
   "execution_count": 8,
   "metadata": {},
   "outputs": [
    {
     "name": "stdout",
     "output_type": "stream",
     "text": [
      "\n",
      "z =\n",
      "\n",
      "    0.0010\n",
      "\n",
      "\n",
      "nf =\n",
      "\n",
      "  328.4029\n",
      "\n",
      "\n",
      "u613 =\n",
      "\n",
      "   1.7731e+02 - 4.0615e-11i\n",
      "\n"
     ]
    }
   ],
   "source": [
    "load FRF13.mat\n",
    "load Frequencies.mat\n",
    "\n",
    "[z,nf,u613]=vtb7_4(Frequencies,x13,328,329)"
   ]
  },
  {
   "cell_type": "code",
   "execution_count": 9,
   "metadata": {},
   "outputs": [
    {
     "name": "stdout",
     "output_type": "stream",
     "text": [
      "\n",
      "z =\n",
      "\n",
      "    0.0010\n",
      "\n",
      "\n",
      "nf =\n",
      "\n",
      "  328.4069\n",
      "\n",
      "\n",
      "u612 =\n",
      "\n",
      "  -1.7143e+02 - 2.6071e-11i\n",
      "\n"
     ]
    }
   ],
   "source": [
    "load FRF12.mat\n",
    "load Frequencies.mat\n",
    "\n",
    "[z,nf,u612]=vtb7_4(Frequencies,x12,328,329)"
   ]
  },
  {
   "cell_type": "code",
   "execution_count": 10,
   "metadata": {},
   "outputs": [
    {
     "name": "stdout",
     "output_type": "stream",
     "text": [
      "\n",
      "z =\n",
      "\n",
      "    0.0010\n",
      "\n",
      "\n",
      "nf =\n",
      "\n",
      "  328.4032\n",
      "\n",
      "\n",
      "u611 =\n",
      "\n",
      "  61.6757 + 0.0000i\n",
      "\n"
     ]
    }
   ],
   "source": [
    "load FRF11.mat\n",
    "load Frequencies.mat\n",
    "\n",
    "[z,nf,u611]=vtb7_4(Frequencies,x11,328,329)"
   ]
  },
  {
   "cell_type": "code",
   "execution_count": 11,
   "metadata": {},
   "outputs": [
    {
     "name": "stdout",
     "output_type": "stream",
     "text": [
      "\n",
      "z =\n",
      "\n",
      "    0.0010\n",
      "\n",
      "\n",
      "nf =\n",
      "\n",
      "  328.4044\n",
      "\n",
      "\n",
      "u610 =\n",
      "\n",
      "   1.9827e+02 - 1.5231e-11i\n",
      "\n"
     ]
    }
   ],
   "source": [
    "load FRF10.mat\n",
    "load Frequencies.mat\n",
    "\n",
    "[z,nf,u610]=vtb7_4(Frequencies,x10,328,329)"
   ]
  },
  {
   "cell_type": "code",
   "execution_count": 12,
   "metadata": {},
   "outputs": [
    {
     "name": "stdout",
     "output_type": "stream",
     "text": [
      "\n",
      "z =\n",
      "\n",
      "    0.0010\n",
      "\n",
      "\n",
      "nf =\n",
      "\n",
      "  328.4032\n",
      "\n",
      "\n",
      "u69 =\n",
      "\n",
      "  -1.0395e+02 + 2.0582e-13i\n",
      "\n"
     ]
    }
   ],
   "source": [
    "load FRF9.mat\n",
    "load Frequencies.mat\n",
    "\n",
    "[z,nf,u69]=vtb7_4(Frequencies,x9,328,329)"
   ]
  },
  {
   "cell_type": "code",
   "execution_count": 13,
   "metadata": {},
   "outputs": [
    {
     "name": "stdout",
     "output_type": "stream",
     "text": [
      "\n",
      "z =\n",
      "\n",
      "   8.7205e-04\n",
      "\n",
      "\n",
      "nf =\n",
      "\n",
      "  328.5188\n",
      "\n",
      "\n",
      "u68 =\n",
      "\n",
      " -11.4200 + 0.0000i\n",
      "\n"
     ]
    }
   ],
   "source": [
    "load FRF8.mat\n",
    "load Frequencies.mat\n",
    "\n",
    "[z,nf,u68]=vtb7_4(Frequencies,x8,328,329)"
   ]
  },
  {
   "cell_type": "code",
   "execution_count": 14,
   "metadata": {},
   "outputs": [
    {
     "name": "stdout",
     "output_type": "stream",
     "text": [
      "\n",
      "z =\n",
      "\n",
      "    0.0010\n",
      "\n",
      "\n",
      "nf =\n",
      "\n",
      "  328.4012\n",
      "\n",
      "\n",
      "u67 =\n",
      "\n",
      "  95.9682 - 0.0000i\n",
      "\n"
     ]
    }
   ],
   "source": [
    "load FRF7.mat\n",
    "load Frequencies.mat\n",
    "\n",
    "[z,nf,u67]=vtb7_4(Frequencies,x7,328,329)"
   ]
  },
  {
   "cell_type": "code",
   "execution_count": 15,
   "metadata": {},
   "outputs": [
    {
     "name": "stdout",
     "output_type": "stream",
     "text": [
      "\n",
      "z =\n",
      "\n",
      "    0.0010\n",
      "\n",
      "\n",
      "nf =\n",
      "\n",
      "  328.4112\n",
      "\n",
      "\n",
      "u66 =\n",
      "\n",
      "   1.8536e+02 + 1.4162e-11i\n",
      "\n"
     ]
    }
   ],
   "source": [
    "load FRF6.mat\n",
    "load Frequencies.mat\n",
    "\n",
    "[z,nf,u66]=vtb7_4(Frequencies,x6,328,329)"
   ]
  },
  {
   "cell_type": "code",
   "execution_count": 16,
   "metadata": {},
   "outputs": [
    {
     "name": "stdout",
     "output_type": "stream",
     "text": [
      "\n",
      "z =\n",
      "\n",
      "    0.0010\n",
      "\n",
      "\n",
      "nf =\n",
      "\n",
      "  328.4245\n",
      "\n",
      "\n",
      "u65 =\n",
      "\n",
      " -57.0218 - 0.0000i\n",
      "\n"
     ]
    }
   ],
   "source": [
    "load FRF5.mat\n",
    "load Frequencies.mat\n",
    "\n",
    "[z,nf,u65]=vtb7_4(Frequencies,x5,328,329)"
   ]
  },
  {
   "cell_type": "code",
   "execution_count": 17,
   "metadata": {},
   "outputs": [
    {
     "name": "stdout",
     "output_type": "stream",
     "text": [
      "\n",
      "z =\n",
      "\n",
      "    0.0010\n",
      "\n",
      "\n",
      "nf =\n",
      "\n",
      "  328.4061\n",
      "\n",
      "\n",
      "u64 =\n",
      "\n",
      "  -2.0960e+02 - 1.6082e-11i\n",
      "\n"
     ]
    }
   ],
   "source": [
    "load FRF4.mat\n",
    "load Frequencies.mat\n",
    "\n",
    "[z,nf,u64]=vtb7_4(Frequencies,x4,328,329)"
   ]
  },
  {
   "cell_type": "code",
   "execution_count": 18,
   "metadata": {},
   "outputs": [
    {
     "name": "stdout",
     "output_type": "stream",
     "text": [
      "\n",
      "z =\n",
      "\n",
      "    0.0011\n",
      "\n",
      "\n",
      "nf =\n",
      "\n",
      "  328.4041\n",
      "\n",
      "\n",
      "u63 =\n",
      "\n",
      "   2.3896e+02 - 3.4203e-11i\n",
      "\n"
     ]
    }
   ],
   "source": [
    "load FRF3.mat\n",
    "load Frequencies.mat\n",
    "\n",
    "[z,nf,u63]=vtb7_4(Frequencies,x3,328,329)"
   ]
  },
  {
   "cell_type": "code",
   "execution_count": 19,
   "metadata": {},
   "outputs": [
    {
     "name": "stdout",
     "output_type": "stream",
     "text": [
      "\n",
      "z =\n",
      "\n",
      "    0.0011\n",
      "\n",
      "\n",
      "nf =\n",
      "\n",
      "  328.3929\n",
      "\n",
      "\n",
      "u62 =\n",
      "\n",
      " -40.6255 + 0.0000i\n",
      "\n"
     ]
    }
   ],
   "source": [
    "load FRF2.mat\n",
    "load Frequencies.mat\n",
    "\n",
    "[z,nf,u62]=vtb7_4(Frequencies,x2,328,329)"
   ]
  },
  {
   "cell_type": "code",
   "execution_count": 20,
   "metadata": {},
   "outputs": [
    {
     "name": "stdout",
     "output_type": "stream",
     "text": [
      "\n",
      "z =\n",
      "\n",
      "    0.0010\n",
      "\n",
      "\n",
      "nf =\n",
      "\n",
      "  328.4100\n",
      "\n",
      "\n",
      "u61 =\n",
      "\n",
      "  -2.6982e+02 + 7.6418e-13i\n",
      "\n"
     ]
    }
   ],
   "source": [
    "load FRF1.mat\n",
    "load Frequencies.mat\n",
    "\n",
    "[z,nf,u61]=vtb7_4(Frequencies,x1,328,329)"
   ]
  },
  {
   "cell_type": "code",
   "execution_count": 21,
   "metadata": {},
   "outputs": [
    {
     "name": "stdout",
     "output_type": "stream",
     "text": [
      "\n",
      "U =\n",
      "\n",
      "   1.0e+02 *\n",
      "\n",
      "  -2.6982 - 0.0000i\n",
      "  -0.4063 - 0.0000i\n",
      "   2.3896 + 0.0000i\n",
      "  -2.0960 + 0.0000i\n",
      "  -0.5702 + 0.0000i\n",
      "   1.8536 - 0.0000i\n",
      "   0.9597 + 0.0000i\n",
      "  -0.1142 - 0.0000i\n",
      "  -1.0395 - 0.0000i\n",
      "   1.9827 + 0.0000i\n",
      "   0.6168 - 0.0000i\n",
      "  -1.7143 + 0.0000i\n",
      "   1.7731 + 0.0000i\n",
      "   0.5714 + 0.0000i\n",
      "  -1.6883 - 0.0000i\n",
      "   0.8735 - 0.0000i\n",
      "   0.1975 + 0.0000i\n",
      "  -0.8586 - 0.0000i\n",
      "\n",
      "\n",
      "s =\n",
      "\n",
      " -269.8173\n",
      "  -40.6255\n",
      "  238.9628\n",
      " -209.5999\n",
      "  -57.0218\n",
      "  185.3561\n",
      "   95.9682\n",
      "  -11.4200\n",
      " -103.9544\n",
      "  198.2678\n",
      "   61.6757\n",
      " -171.4264\n",
      "  177.3106\n",
      "   57.1353\n",
      " -168.8345\n",
      "   87.3535\n",
      "   19.7490\n",
      "  -85.8600\n",
      "\n"
     ]
    }
   ],
   "source": [
    "U=[u61 u62 u63 u64 u65 u66 u67 u68 u69 u610 u611 u612 u613 u614 u615 u616 u617 u618]'\n",
    "s=real(U)"
   ]
  },
  {
   "cell_type": "code",
   "execution_count": null,
   "metadata": {
    "collapsed": true
   },
   "outputs": [],
   "source": []
  }
 ],
 "metadata": {
  "kernelspec": {
   "display_name": "MATLAB",
   "language": "matlab",
   "name": "imatlab"
  },
  "language_info": {
   "codemirror_mode": "octave",
   "file_extension": ".m",
   "mimetype": "text/x-matlab",
   "name": "matlab",
   "nbconvert_exporter": "imatlab._exporter.MatlabExporter",
   "pygments_lexer": "matlab",
   "version": "9.2.0.556344 (R2017a)"
  }
 },
 "nbformat": 4,
 "nbformat_minor": 2
}
