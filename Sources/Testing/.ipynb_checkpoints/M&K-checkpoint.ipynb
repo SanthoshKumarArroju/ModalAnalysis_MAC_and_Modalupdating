{
 "cells": [
  {
   "cell_type": "markdown",
   "metadata": {},
   "source": [
    "# Modal Analysis of a Wing"
   ]
  },
  {
   "cell_type": "code",
   "execution_count": 1,
   "metadata": {
    "collapsed": true
   },
   "outputs": [],
   "source": [
    "clear all\n",
    "close all\n",
    "clc\n",
    "%imatlab_export_fig('print-png')"
   ]
  },
  {
   "cell_type": "markdown",
   "metadata": {},
   "source": [
    "At first natural frequency for all 18 points on the wing\n",
    "--"
   ]
  },
  {
   "cell_type": "code",
   "execution_count": 12,
   "metadata": {
    "collapsed": true
   },
   "outputs": [],
   "source": [
    "load FRF1.mat\n",
    "load FRF2.mat\n",
    "load FRF3.mat\n",
    "load FRF4.mat\n",
    "load FRF5.mat\n",
    "load FRF6.mat\n",
    "load FRF7.mat\n",
    "load FRF8.mat\n",
    "load FRF9.mat\n",
    "load FRF10.mat\n",
    "load FRF11.mat\n",
    "load FRF12.mat\n",
    "load FRF13.mat\n",
    "load FRF14.mat\n",
    "load FRF15.mat\n",
    "load FRF16.mat\n",
    "load FRF17.mat\n",
    "load FRF18.mat\n",
    "load Frequencies.mat\n",
    "load 1stNaturalFreq.mat\n",
    "load 2ndNaturalFreq.mat\n",
    "load 3rdNaturalFreq.mat\n",
    "load 4rthNaturalFreq.mat\n",
    "load 5thNaturalFreq.mat\n",
    "load 6thNaturalFreq.mat\n",
    "\n",
    "%TF=[x1 x2 x3 x4 x5 x6 x7 x8 x9 x10 x11 x12 x13 x14 x15 x16 x17 x18];\n",
    "\n",
    "\n",
    "\n",
    "\n",
    "lamda=zeros(6);\n",
    "z=zeros(6);\n",
    "%s=zeros(18);\n",
    "\n",
    "%z(3,3)=z3\n",
    "%lamda=(2*pi*nf3)\n",
    "%s(:,3)=real(u3)"
   ]
  },
  {
   "cell_type": "code",
   "execution_count": 16,
   "metadata": {},
   "outputs": [
    {
     "name": "stdout",
     "output_type": "stream",
     "text": [
      "\n",
      "s =\n",
      "\n",
      "   1.0e+02 *\n",
      "\n",
      "  Columns 1 through 4\n",
      "\n",
      "   0.0524 - 0.0000i   0.0469 + 0.0000i   0.0437 - 0.0000i   0.0352 - 0.0000i\n",
      "  -0.2713 - 0.0000i  -0.2695 - 0.0000i  -0.2512 + 0.0000i  -0.0731 - 0.0000i\n",
      "   0.5284 - 0.0000i   0.5218 + 0.0000i   0.5160 - 0.0000i  -0.3687 + 0.0000i\n",
      "   1.0721 - 0.0000i  -0.0783 - 0.0000i  -0.9916 + 0.0000i   1.1243 - 0.0000i\n",
      "   0.7114 + 0.0000i   0.7141 - 0.0000i   0.6927 + 0.0000i  -0.7597 - 0.0000i\n",
      "  -2.6982 + 0.0000i  -0.4063 + 0.0000i   2.3896 - 0.0000i  -2.0960 - 0.0000i\n",
      "\n",
      "  Columns 5 through 8\n",
      "\n",
      "   0.0399 + 0.0000i   0.0411 - 0.0000i   0.0391 - 0.0000i   0.0336 - 0.0000i\n",
      "  -0.0855 + 0.0000i  -0.0779 - 0.0000i   0.1798 + 0.0000i   0.1716 + 0.0000i\n",
      "  -0.3701 - 0.0000i  -0.3890 + 0.0000i  -0.3388 - 0.0000i  -0.3568 - 0.0000i\n",
      "   0.3449 - 0.0000i  -0.9714 + 0.0000i   1.0123 - 0.0000i   0.3788 + 0.0000i\n",
      "  -0.6578 + 0.0000i  -0.6848 + 0.0000i   0.3072 - 0.0000i   0.4681 - 0.0000i\n",
      "  -0.5702 - 0.0000i   1.8536 + 0.0000i   0.9597 - 0.0000i  -0.1142 + 0.0000i\n",
      "\n",
      "  Columns 9 through 12\n",
      "\n",
      "   0.0330 + 0.0000i   0.0228 + 0.0000i   0.0218 - 0.0000i   0.0204 + 0.0000i\n",
      "   0.1792 - 0.0000i   0.1770 - 0.0000i   0.1770 + 0.0000i   0.1749 + 0.0000i\n",
      "  -0.3400 - 0.0000i   0.2753 + 0.0000i   0.2809 - 0.0000i   0.2910 + 0.0000i\n",
      "  -0.8824 + 0.0000i   0.8434 - 0.0000i   0.2019 + 0.0000i  -0.7582 - 0.0000i\n",
      "   0.4153 - 0.0000i   0.5050 - 0.0000i   0.4655 + 0.0000i   0.4234 + 0.0000i\n",
      "  -1.0395 + 0.0000i   1.9827 - 0.0000i   0.6168 + 0.0000i  -1.7143 - 0.0000i\n",
      "\n",
      "  Columns 13 through 16\n",
      "\n",
      "   0.0151 - 0.0000i   0.0206 + 0.0000i   0.0172 + 0.0000i  -0.0138 - 0.0000i\n",
      "   0.1270 + 0.0000i   0.1262 - 0.0000i   0.1230 + 0.0000i   0.0486 - 0.0000i\n",
      "   0.3343 - 0.0000i   0.3444 - 0.0000i   0.3275 + 0.0000i   0.1336 - 0.0000i\n",
      "   0.5863 - 0.0000i   0.1604 + 0.0000i  -0.5774 - 0.0000i   0.2701 - 0.0000i\n",
      "  -0.5902 + 0.0000i  -0.5198 + 0.0000i  -0.5243 - 0.0000i  -0.1932 + 0.0000i\n",
      "   1.7731 - 0.0000i   0.5714 - 0.0000i  -1.6883 + 0.0000i   0.8735 + 0.0000i\n",
      "\n",
      "  Columns 17 through 18\n",
      "\n",
      "   0.0378 - 0.0000i   0.0047 - 0.0000i\n",
      "   0.0761 + 0.0000i   0.0404 - 0.0000i\n",
      "   0.2030 - 0.0000i   0.1433 + 0.0000i\n",
      "   0.0676 - 0.0000i  -0.2698 + 0.0000i\n",
      "  -0.3370 + 0.0000i  -0.2910 + 0.0000i\n",
      "   0.1975 - 0.0000i  -0.8586 + 0.0000i\n",
      "\n"
     ]
    }
   ],
   "source": [
    "s=[U1 U2 U3 U4 U5 U6]'"
   ]
  },
  {
   "cell_type": "code",
   "execution_count": 17,
   "metadata": {},
   "outputs": [
    {
     "name": "stderr",
     "output_type": "stream",
     "text": [
      "Error using \\\n",
      "Matrix dimensions must agree.\n",
      "\n"
     ]
    }
   ],
   "source": [
    "%s=[U1:U6];\n",
    "M=s'/eye(6)\\s;\n",
    "C=s'/(2*z*sqrt(lamda))\\s;\n",
    "K=s'/lamda\\s;\n",
    "%m=vpa(M,8);\n",
    "%k=vpa(K,8);\n",
    "%c=vpa(C,8);"
   ]
  },
  {
   "cell_type": "code",
   "execution_count": 3,
   "metadata": {},
   "outputs": [
    {
     "name": "stdout",
     "output_type": "stream",
     "text": [
      "\n",
      "z =\n",
      "\n",
      "    0.0010\n",
      "\n",
      "\n",
      "nf =\n",
      "\n",
      "  328.4052\n",
      "\n",
      "\n",
      "u618 =\n",
      "\n",
      " -85.8600 + 0.0000i\n",
      "\n"
     ]
    }
   ],
   "source": [
    "load FRF18.mat\n",
    "load Frequencies.mat\n",
    "[z,nf,u618]=vtb7_4(Frequencies,x18,328,329)"
   ]
  },
  {
   "cell_type": "code",
   "execution_count": 4,
   "metadata": {},
   "outputs": [
    {
     "name": "stdout",
     "output_type": "stream",
     "text": [
      "\n",
      "z =\n",
      "\n",
      "    0.0051\n",
      "\n",
      "\n",
      "nf =\n",
      "\n",
      "  328.3252\n",
      "\n",
      "\n",
      "u617 =\n",
      "\n",
      "  19.7490 - 0.0000i\n",
      "\n"
     ]
    }
   ],
   "source": [
    "load FRF17.mat\n",
    "load Frequencies.mat\n",
    "\n",
    "[z,nf,u617]=vtb7_4(Frequencies,x17,328,329)"
   ]
  },
  {
   "cell_type": "code",
   "execution_count": 5,
   "metadata": {},
   "outputs": [
    {
     "name": "stdout",
     "output_type": "stream",
     "text": [
      "\n",
      "z =\n",
      "\n",
      "    0.0010\n",
      "\n",
      "\n",
      "nf =\n",
      "\n",
      "  328.4057\n",
      "\n",
      "\n",
      "u616 =\n",
      "\n",
      "  87.3535 + 0.0000i\n",
      "\n"
     ]
    }
   ],
   "source": [
    "load FRF16.mat\n",
    "load Frequencies.mat\n",
    "\n",
    "[z,nf,u616]=vtb7_4(Frequencies,x16,328,329)"
   ]
  },
  {
   "cell_type": "code",
   "execution_count": 6,
   "metadata": {},
   "outputs": [
    {
     "name": "stdout",
     "output_type": "stream",
     "text": [
      "\n",
      "z =\n",
      "\n",
      "    0.0010\n",
      "\n",
      "\n",
      "nf =\n",
      "\n",
      "  328.4036\n",
      "\n",
      "\n",
      "u615 =\n",
      "\n",
      "  -1.6883e+02 + 3.8360e-11i\n",
      "\n"
     ]
    }
   ],
   "source": [
    "load FRF15.mat\n",
    "load Frequencies.mat\n",
    "\n",
    "[z,nf,u615]=vtb7_4(Frequencies,x15,328,329)"
   ]
  },
  {
   "cell_type": "code",
   "execution_count": 7,
   "metadata": {},
   "outputs": [
    {
     "name": "stdout",
     "output_type": "stream",
     "text": [
      "\n",
      "z =\n",
      "\n",
      "    0.0010\n",
      "\n",
      "\n",
      "nf =\n",
      "\n",
      "  328.3996\n",
      "\n",
      "\n",
      "u614 =\n",
      "\n",
      "  57.1353 - 0.0000i\n",
      "\n"
     ]
    }
   ],
   "source": [
    "load FRF14.mat\n",
    "load Frequencies.mat\n",
    "\n",
    "[z,nf,u614]=vtb7_4(Frequencies,x14,328,329)"
   ]
  },
  {
   "cell_type": "code",
   "execution_count": 8,
   "metadata": {},
   "outputs": [
    {
     "name": "stdout",
     "output_type": "stream",
     "text": [
      "\n",
      "z =\n",
      "\n",
      "    0.0010\n",
      "\n",
      "\n",
      "nf =\n",
      "\n",
      "  328.4029\n",
      "\n",
      "\n",
      "u613 =\n",
      "\n",
      "   1.7731e+02 - 4.0615e-11i\n",
      "\n"
     ]
    }
   ],
   "source": [
    "load FRF13.mat\n",
    "load Frequencies.mat\n",
    "\n",
    "[z,nf,u613]=vtb7_4(Frequencies,x13,328,329)"
   ]
  },
  {
   "cell_type": "code",
   "execution_count": 9,
   "metadata": {},
   "outputs": [
    {
     "name": "stdout",
     "output_type": "stream",
     "text": [
      "\n",
      "z =\n",
      "\n",
      "    0.0010\n",
      "\n",
      "\n",
      "nf =\n",
      "\n",
      "  328.4069\n",
      "\n",
      "\n",
      "u612 =\n",
      "\n",
      "  -1.7143e+02 - 2.6071e-11i\n",
      "\n"
     ]
    }
   ],
   "source": [
    "load FRF12.mat\n",
    "load Frequencies.mat\n",
    "\n",
    "[z,nf,u612]=vtb7_4(Frequencies,x12,328,329)"
   ]
  },
  {
   "cell_type": "code",
   "execution_count": 10,
   "metadata": {},
   "outputs": [
    {
     "name": "stdout",
     "output_type": "stream",
     "text": [
      "\n",
      "z =\n",
      "\n",
      "    0.0010\n",
      "\n",
      "\n",
      "nf =\n",
      "\n",
      "  328.4032\n",
      "\n",
      "\n",
      "u611 =\n",
      "\n",
      "  61.6757 + 0.0000i\n",
      "\n"
     ]
    }
   ],
   "source": [
    "load FRF11.mat\n",
    "load Frequencies.mat\n",
    "\n",
    "[z,nf,u611]=vtb7_4(Frequencies,x11,328,329)"
   ]
  },
  {
   "cell_type": "code",
   "execution_count": 11,
   "metadata": {},
   "outputs": [
    {
     "name": "stdout",
     "output_type": "stream",
     "text": [
      "\n",
      "z =\n",
      "\n",
      "    0.0010\n",
      "\n",
      "\n",
      "nf =\n",
      "\n",
      "  328.4044\n",
      "\n",
      "\n",
      "u610 =\n",
      "\n",
      "   1.9827e+02 - 1.5231e-11i\n",
      "\n"
     ]
    }
   ],
   "source": [
    "load FRF10.mat\n",
    "load Frequencies.mat\n",
    "\n",
    "[z,nf,u610]=vtb7_4(Frequencies,x10,328,329)"
   ]
  },
  {
   "cell_type": "code",
   "execution_count": 12,
   "metadata": {},
   "outputs": [
    {
     "name": "stdout",
     "output_type": "stream",
     "text": [
      "\n",
      "z =\n",
      "\n",
      "    0.0010\n",
      "\n",
      "\n",
      "nf =\n",
      "\n",
      "  328.4032\n",
      "\n",
      "\n",
      "u69 =\n",
      "\n",
      "  -1.0395e+02 + 2.0582e-13i\n",
      "\n"
     ]
    }
   ],
   "source": [
    "load FRF9.mat\n",
    "load Frequencies.mat\n",
    "\n",
    "[z,nf,u69]=vtb7_4(Frequencies,x9,328,329)"
   ]
  },
  {
   "cell_type": "code",
   "execution_count": 13,
   "metadata": {},
   "outputs": [
    {
     "name": "stdout",
     "output_type": "stream",
     "text": [
      "\n",
      "z =\n",
      "\n",
      "   8.7205e-04\n",
      "\n",
      "\n",
      "nf =\n",
      "\n",
      "  328.5188\n",
      "\n",
      "\n",
      "u68 =\n",
      "\n",
      " -11.4200 + 0.0000i\n",
      "\n"
     ]
    }
   ],
   "source": [
    "load FRF8.mat\n",
    "load Frequencies.mat\n",
    "\n",
    "[z,nf,u68]=vtb7_4(Frequencies,x8,328,329)"
   ]
  },
  {
   "cell_type": "code",
   "execution_count": 14,
   "metadata": {},
   "outputs": [
    {
     "name": "stdout",
     "output_type": "stream",
     "text": [
      "\n",
      "z =\n",
      "\n",
      "    0.0010\n",
      "\n",
      "\n",
      "nf =\n",
      "\n",
      "  328.4012\n",
      "\n",
      "\n",
      "u67 =\n",
      "\n",
      "  95.9682 - 0.0000i\n",
      "\n"
     ]
    }
   ],
   "source": [
    "load FRF7.mat\n",
    "load Frequencies.mat\n",
    "\n",
    "[z,nf,u67]=vtb7_4(Frequencies,x7,328,329)"
   ]
  },
  {
   "cell_type": "code",
   "execution_count": 15,
   "metadata": {},
   "outputs": [
    {
     "name": "stdout",
     "output_type": "stream",
     "text": [
      "\n",
      "z =\n",
      "\n",
      "    0.0010\n",
      "\n",
      "\n",
      "nf =\n",
      "\n",
      "  328.4112\n",
      "\n",
      "\n",
      "u66 =\n",
      "\n",
      "   1.8536e+02 + 1.4162e-11i\n",
      "\n"
     ]
    }
   ],
   "source": [
    "load FRF6.mat\n",
    "load Frequencies.mat\n",
    "\n",
    "[z,nf,u66]=vtb7_4(Frequencies,x6,328,329)"
   ]
  },
  {
   "cell_type": "code",
   "execution_count": 16,
   "metadata": {},
   "outputs": [
    {
     "name": "stdout",
     "output_type": "stream",
     "text": [
      "\n",
      "z =\n",
      "\n",
      "    0.0010\n",
      "\n",
      "\n",
      "nf =\n",
      "\n",
      "  328.4245\n",
      "\n",
      "\n",
      "u65 =\n",
      "\n",
      " -57.0218 - 0.0000i\n",
      "\n"
     ]
    }
   ],
   "source": [
    "load FRF5.mat\n",
    "load Frequencies.mat\n",
    "\n",
    "[z,nf,u65]=vtb7_4(Frequencies,x5,328,329)"
   ]
  },
  {
   "cell_type": "code",
   "execution_count": 17,
   "metadata": {},
   "outputs": [
    {
     "name": "stdout",
     "output_type": "stream",
     "text": [
      "\n",
      "z =\n",
      "\n",
      "    0.0010\n",
      "\n",
      "\n",
      "nf =\n",
      "\n",
      "  328.4061\n",
      "\n",
      "\n",
      "u64 =\n",
      "\n",
      "  -2.0960e+02 - 1.6082e-11i\n",
      "\n"
     ]
    }
   ],
   "source": [
    "load FRF4.mat\n",
    "load Frequencies.mat\n",
    "\n",
    "[z,nf,u64]=vtb7_4(Frequencies,x4,328,329)"
   ]
  },
  {
   "cell_type": "code",
   "execution_count": 18,
   "metadata": {},
   "outputs": [
    {
     "name": "stdout",
     "output_type": "stream",
     "text": [
      "\n",
      "z =\n",
      "\n",
      "    0.0011\n",
      "\n",
      "\n",
      "nf =\n",
      "\n",
      "  328.4041\n",
      "\n",
      "\n",
      "u63 =\n",
      "\n",
      "   2.3896e+02 - 3.4203e-11i\n",
      "\n"
     ]
    }
   ],
   "source": [
    "load FRF3.mat\n",
    "load Frequencies.mat\n",
    "\n",
    "[z,nf,u63]=vtb7_4(Frequencies,x3,328,329)"
   ]
  },
  {
   "cell_type": "code",
   "execution_count": 19,
   "metadata": {},
   "outputs": [
    {
     "name": "stdout",
     "output_type": "stream",
     "text": [
      "\n",
      "z =\n",
      "\n",
      "    0.0011\n",
      "\n",
      "\n",
      "nf =\n",
      "\n",
      "  328.3929\n",
      "\n",
      "\n",
      "u62 =\n",
      "\n",
      " -40.6255 + 0.0000i\n",
      "\n"
     ]
    }
   ],
   "source": [
    "load FRF2.mat\n",
    "load Frequencies.mat\n",
    "\n",
    "[z,nf,u62]=vtb7_4(Frequencies,x2,328,329)"
   ]
  },
  {
   "cell_type": "code",
   "execution_count": 20,
   "metadata": {},
   "outputs": [
    {
     "name": "stdout",
     "output_type": "stream",
     "text": [
      "\n",
      "z =\n",
      "\n",
      "    0.0010\n",
      "\n",
      "\n",
      "nf =\n",
      "\n",
      "  328.4100\n",
      "\n",
      "\n",
      "u61 =\n",
      "\n",
      "  -2.6982e+02 + 7.6418e-13i\n",
      "\n"
     ]
    }
   ],
   "source": [
    "load FRF1.mat\n",
    "load Frequencies.mat\n",
    "\n",
    "[z,nf,u61]=vtb7_4(Frequencies,x1,328,329)"
   ]
  },
  {
   "cell_type": "code",
   "execution_count": 21,
   "metadata": {},
   "outputs": [
    {
     "name": "stdout",
     "output_type": "stream",
     "text": [
      "\n",
      "U =\n",
      "\n",
      "   1.0e+02 *\n",
      "\n",
      "  -2.6982 - 0.0000i\n",
      "  -0.4063 - 0.0000i\n",
      "   2.3896 + 0.0000i\n",
      "  -2.0960 + 0.0000i\n",
      "  -0.5702 + 0.0000i\n",
      "   1.8536 - 0.0000i\n",
      "   0.9597 + 0.0000i\n",
      "  -0.1142 - 0.0000i\n",
      "  -1.0395 - 0.0000i\n",
      "   1.9827 + 0.0000i\n",
      "   0.6168 - 0.0000i\n",
      "  -1.7143 + 0.0000i\n",
      "   1.7731 + 0.0000i\n",
      "   0.5714 + 0.0000i\n",
      "  -1.6883 - 0.0000i\n",
      "   0.8735 - 0.0000i\n",
      "   0.1975 + 0.0000i\n",
      "  -0.8586 - 0.0000i\n",
      "\n",
      "\n",
      "s =\n",
      "\n",
      " -269.8173\n",
      "  -40.6255\n",
      "  238.9628\n",
      " -209.5999\n",
      "  -57.0218\n",
      "  185.3561\n",
      "   95.9682\n",
      "  -11.4200\n",
      " -103.9544\n",
      "  198.2678\n",
      "   61.6757\n",
      " -171.4264\n",
      "  177.3106\n",
      "   57.1353\n",
      " -168.8345\n",
      "   87.3535\n",
      "   19.7490\n",
      "  -85.8600\n",
      "\n"
     ]
    }
   ],
   "source": [
    "U=[u61 u62 u63 u64 u65 u66 u67 u68 u69 u610 u611 u612 u613 u614 u615 u616 u617 u618]'\n",
    "s=real(U)"
   ]
  },
  {
   "cell_type": "code",
   "execution_count": null,
   "metadata": {
    "collapsed": true
   },
   "outputs": [],
   "source": []
  }
 ],
 "metadata": {
  "kernelspec": {
   "display_name": "MATLAB",
   "language": "matlab",
   "name": "imatlab"
  },
  "language_info": {
   "codemirror_mode": "octave",
   "file_extension": ".m",
   "mimetype": "text/x-matlab",
   "name": "matlab",
   "nbconvert_exporter": "imatlab._exporter.MatlabExporter",
   "pygments_lexer": "matlab",
   "version": "9.2.0.556344 (R2017a)"
  }
 },
 "nbformat": 4,
 "nbformat_minor": 2
}
