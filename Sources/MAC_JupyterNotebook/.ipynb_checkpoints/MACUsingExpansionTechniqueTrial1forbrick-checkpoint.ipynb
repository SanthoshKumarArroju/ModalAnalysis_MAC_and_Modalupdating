{
 "cells": [
  {
   "cell_type": "code",
   "execution_count": 72,
   "metadata": {
    "scrolled": true
   },
   "outputs": [
    {
     "name": "stdout",
     "output_type": "stream",
     "text": [
      "The autoreload extension is already loaded. To reload it, use:\n",
      "  %reload_ext autoreload\n"
     ]
    }
   ],
   "source": [
    "%load_ext autoreload\n",
    "%autoreload 2\n",
    "%matplotlib inline\n",
    "import vibrationtesting as vt\n",
    "from vibrationtesting import sos_modal\n",
    "import matplotlib.pyplot as plt\n",
    "import scipy\n",
    "import numpy as np\n",
    "import scipy.io as sio\n",
    "import array_to_latex as a2t\n",
    "from scipy.sparse import *\n",
    "np.set_printoptions(precision = 9, linewidth = 220, suppress = True)"
   ]
  },
  {
   "cell_type": "markdown",
   "metadata": {},
   "source": [
    "# Eigen Vectors from Testing "
   ]
  },
  {
   "cell_type": "code",
   "execution_count": 88,
   "metadata": {},
   "outputs": [
    {
     "data": {
      "text/plain": [
       "array([[   5.241707706,  -27.127615081,   52.843453543,  107.210143005,   71.139095015, -269.817342785],\n",
       "       [   4.687209363,  -26.945738191,   52.183186313,   -7.83341953 ,   71.411534453,  -40.625538373],\n",
       "       [   4.368421773,  -25.121917234,   51.597488464,  -99.159212806,   69.26683148 ,  238.962801192],\n",
       "       [   3.519108382,   -7.307635452,  -36.871073212,  112.432870575,  -75.970925544, -209.599864678],\n",
       "       [   3.99369394 ,   -8.550399951,  -37.014491536,   34.494279202,  -65.780768515,  -57.021770026],\n",
       "       [   4.110844861,   -7.792721262,  -38.903453864,  -97.14023879 ,  -68.483622372,  185.356134448],\n",
       "       [   3.912418166,   17.983583519,  -33.877855743,  101.225337752,   30.716200755,   95.968190423],\n",
       "       [   3.359713741,   17.158904587,  -35.675183371,   37.881749912,   46.813407339,  -11.419977031],\n",
       "       [   3.303682334,   17.92248139 ,  -34.000342956,  -88.24444254 ,   41.527236694, -103.954353298],\n",
       "       [   2.277194422,   17.704562416,   27.531465665,   84.338186021,   50.495553972,  198.267837379],\n",
       "       [   2.181482393,   17.698151799,   28.087937544,   20.185704122,   46.548943562,   61.675717133],\n",
       "       [   2.03686602 ,   17.487103427,   29.096075801,  -75.817733122,   42.33667518 , -171.42639114 ],\n",
       "       [   1.512073025,   12.695689876,   33.433982783,   58.629698067,  -59.01735077 ,  177.310634149],\n",
       "       [   2.059821363,   12.622317503,   34.436422063,   16.036931999,  -51.982592324,   57.135293283],\n",
       "       [   1.718553685,   12.302821956,   32.75459133 ,  -57.740897254,  -52.426502109, -168.834545744]])"
      ]
     },
     "execution_count": 88,
     "metadata": {},
     "output_type": "execute_result"
    }
   ],
   "source": [
    "mat_contents=sio.loadmat('1stNaturalFreq16.mat')\n",
    "U1 = mat_contents['U1']\n",
    "#U1 = vt.real_modes(U1, autorotate = True)\n",
    "mat_contents=sio.loadmat('2ndNaturalFreq16.mat')\n",
    "U2 = mat_contents['U2']\n",
    "#U2 = vt.real_modes(U2, autorotate = True)\n",
    "mat_contents=sio.loadmat('3rdNaturalFreq16.mat')\n",
    "U3 = mat_contents['U3']\n",
    "#U3 = vt.real_modes(U3, autorotate = True)\n",
    "mat_contents=sio.loadmat('4rthNaturalFreq16.mat')\n",
    "U4 = mat_contents['U4']\n",
    "#U4 = vt.real_modes(U4, autorotate = True)\n",
    "mat_contents=sio.loadmat('5thNaturalFreq16.mat')\n",
    "U5 = mat_contents['U5']\n",
    "#U5 = vt.real_modes(U5, autorotate = True)\n",
    "mat_contents=sio.loadmat('6thNaturalFreq16.mat')\n",
    "U6 = mat_contents['U6']\n",
    "#U6 = vt.real_modes(U6, autorotate = True)\n",
    "\n",
    "Psi_1 = np.array(U1)\n",
    "Psi_2 = np.array(U2)\n",
    "Psi_3 = np.array(U3)\n",
    "Psi_4 = np.array(U4)\n",
    "Psi_5 = np.array(U5)\n",
    "Psi_6 = np.array(U6)\n",
    "Psi_1=np.column_stack((Psi_1,Psi_2,Psi_3,Psi_4,Psi_5,Psi_6))\n",
    "#Psi_1=np.concatenate((Psi_1, Psi_1), axis=0)\n",
    "\n",
    "Psi_abs = np.abs(Psi_1)*np.real(np.sign(Psi_1))\n",
    "Psi_1 = Psi_abs\n",
    "#Psi_1 = np.transpose(Psi_1)\n",
    "Psi_1\n"
   ]
  },
  {
   "cell_type": "markdown",
   "metadata": {},
   "source": [
    "# *Note*: \n",
    "* SEREP technique was applied using WFEM, the results were exact as the full model only when no: of Modeshapes required to keep were in sequential order but we don't need the 3rd modeshape that FEA model is giving. So, SEREP may not be useful for this case.\n"
   ]
  },
  {
   "cell_type": "markdown",
   "metadata": {
    "collapsed": true,
    "heading_collapsed": true
   },
   "source": [
    "#  Tried using Extension of modes from Modal Analysis to All DOF of a Finite Element Model after applying Guyan reduction"
   ]
  },
  {
   "cell_type": "code",
   "execution_count": 89,
   "metadata": {
    "hidden": true
   },
   "outputs": [
    {
     "data": {
      "text/plain": [
       "(120, 6)"
      ]
     },
     "execution_count": 89,
     "metadata": {},
     "output_type": "execute_result"
    }
   ],
   "source": [
    "#mat_contents=sio.loadmat('WingBeamforMAC.mat')\n",
    "#K = mat_contents['Kr']\n",
    "#M = mat_contents['Mr']\n",
    "#K=csr_matrix(K)\n",
    "#M=csr_matrix(M)\n",
    "#K= K.todense()\n",
    "#M=M.todense()\n",
    "#omega, zeta, Psi = vt.sos_modal(M, K)\n",
    "#measured = np.array([[1,6,11,16,21,26,31,36,41,46,51,56,61,66,71]])\n",
    "#omega=13.54\n",
    "mat_contents=sio.loadmat('WingBrick12forMAC.mat')\n",
    "K = (mat_contents['Kr'])\n",
    "\n",
    "M = (mat_contents['Mr'])\n",
    "K = K.todense()\n",
    "M = M.todense()\n",
    "\n",
    "#Psi_1=np.array([[ 5.241707706],  [4.687209363],  [4.368421773],  [3.519108382],  [3.99369394],  [4.110844861],  [3.912418166],  [3.359713741],  [3.303682334],  [2.277194422],  [2.181482393],  [2.03686602],  [1.512073025],  [2.059821363],  [1.718553685]])\n",
    "omega, zeta, Psi = vt.sos_modal(M, K)\n",
    "measured = np.array([[111, 108, 105, 93, 90, 87, 75, 72, 69, 57, 54, 51, 39, 36, 33]])\n",
    "omega=np.array([omega[0], omega[1], omega[3], omega[4], omega[5], omega[7]])\n",
    "Psi_full=vt.mode_expansion_from_model(Psi_1, omega, M, K, measured)\n",
    "#vt.mode_expansion_from_model(Psi_1, omega[0], M, K, measured)\n",
    "#Psi\n",
    "#Psi.shape\n",
    "#omega[1]/4/3.14\n",
    "#omega\n",
    "Psi_full.shape"
   ]
  },
  {
   "cell_type": "markdown",
   "metadata": {},
   "source": [
    "# full FE eigen vectors"
   ]
  },
  {
   "cell_type": "code",
   "execution_count": 90,
   "metadata": {},
   "outputs": [
    {
     "data": {
      "text/plain": [
       "(120, 6)"
      ]
     },
     "execution_count": 90,
     "metadata": {},
     "output_type": "execute_result"
    }
   ],
   "source": [
    "#Psi_1 = mat_contents['Psi']\n",
    "Psi_1 = Psi\n",
    "mode1=Psi_1[:,0]\n",
    "mode2=Psi_1[:,1]\n",
    "mode3=Psi_1[:,3]\n",
    "mode4=Psi_1[:,4]\n",
    "mode5=Psi_1[:,5]\n",
    "mode6=Psi_1[:,6]\n",
    "Psi_2= np.column_stack((mode1, mode2, mode3, mode4, mode5, mode6))\n",
    "Psi_2.shape"
   ]
  },
  {
   "cell_type": "markdown",
   "metadata": {},
   "source": [
    "# MAC after DOF expansion"
   ]
  },
  {
   "cell_type": "code",
   "execution_count": 91,
   "metadata": {},
   "outputs": [
    {
     "data": {
      "text/plain": [
       "array([[ 0.67153705 ,  0.178254146,  0.08494662 ,  0.009921076,  0.046190477,  0.007065397],\n",
       "       [ 0.398518105,  0.02856074 ,  0.015518737,  0.000087968,  0.003765611,  0.00610026 ],\n",
       "       [ 0.986091801,  0.222975922,  0.11818511 ,  0.000086652,  0.074106617,  0.010892408],\n",
       "       [ 0.966033107,  0.091705376,  0.054016638,  0.009168704,  0.040392046,  0.005782673],\n",
       "       [ 0.125807329,  0.534569845,  0.114876791,  0.034366303,  0.039182299,  0.000366247],\n",
       "       [ 0.063634832,  0.055075962,  0.055356048,  0.084582596,  0.056144294,  0.006604036]])"
      ]
     },
     "execution_count": 91,
     "metadata": {},
     "output_type": "execute_result"
    }
   ],
   "source": [
    "nummodes = Psi_full.shape[1]\n",
    "MAC = np.zeros((nummodes, nummodes))\n",
    "if Psi_full.shape == Psi_2.shape:\n",
    "        for i in np.arange(nummodes):\n",
    "            for j in np.arange(nummodes):\n",
    "                MAC[i, j] = (abs(np.conj(Psi_full[:, i]) @ Psi_2[:, j])**2 /\n",
    "                             (np.conj(Psi_full[:, i]) @ Psi_full[:, i] *\n",
    "                              np.conj(Psi_2[:, j]) @ Psi_2[:, j]))\n",
    "else:\n",
    "        print('Mode shape arrays must have the same size.')\n",
    "MAC"
   ]
  },
  {
   "cell_type": "markdown",
   "metadata": {},
   "source": [
    "# FE model Correction"
   ]
  },
  {
   "cell_type": "code",
   "execution_count": 58,
   "metadata": {
    "collapsed": true
   },
   "outputs": [],
   "source": [
    "\n",
    "Mc, Kc = vt.model_correction_direct(Psi_full, omega, M, K, method='Baruch')\n"
   ]
  },
  {
   "cell_type": "code",
   "execution_count": 59,
   "metadata": {},
   "outputs": [
    {
     "data": {
      "text/plain": [
       "(360, 360)"
      ]
     },
     "execution_count": 59,
     "metadata": {},
     "output_type": "execute_result"
    }
   ],
   "source": [
    "Mc.shape"
   ]
  },
  {
   "cell_type": "code",
   "execution_count": 60,
   "metadata": {},
   "outputs": [
    {
     "data": {
      "text/plain": [
       "(360, 360)"
      ]
     },
     "execution_count": 60,
     "metadata": {},
     "output_type": "execute_result"
    }
   ],
   "source": [
    "Kc.shape"
   ]
  },
  {
   "cell_type": "code",
   "execution_count": 61,
   "metadata": {},
   "outputs": [
    {
     "data": {
      "text/plain": [
       "(360, 6)"
      ]
     },
     "execution_count": 61,
     "metadata": {},
     "output_type": "execute_result"
    }
   ],
   "source": [
    "omega, zeta, Psi = vt.sos_modal(Mc, Kc)\n",
    "#measured = np.array([[1,6,11,16,21,26,31,36,41,46,51,56,61,66,71]])\n",
    "omega=np.array([omega[0], omega[1], omega[3], omega[4], omega[5], omega[6]])*4*np.pi\n",
    "#Psi_full=vt.mode_expansion_from_model(Psi_1, omega, M, K, measured)\n",
    "Psi_2 = Psi\n",
    "mode1=Psi_1[:,0]\n",
    "mode2=Psi_1[:,1]\n",
    "mode3=Psi_1[:,3]\n",
    "mode4=Psi_1[:,4]\n",
    "mode5=Psi_1[:,5]\n",
    "mode6=Psi_1[:,6]\n",
    "Psi_2= np.column_stack((mode1, mode2, mode3, mode4, mode5, mode6))\n",
    "Psi_2.shape"
   ]
  },
  {
   "cell_type": "code",
   "execution_count": 62,
   "metadata": {},
   "outputs": [
    {
     "data": {
      "text/plain": [
       "array([[ 0.121433381,  0.01841361 ,  0.012055253,  0.000000042,  0.043229598,  0.000173354],\n",
       "       [ 0.000713045,  0.078635772,  0.023444915,  0.000005904,  0.041814454,  0.         ],\n",
       "       [ 0.064273739,  0.024664247,  0.029732359,  0.000009536,  0.047303753,  0.000027248],\n",
       "       [ 0.010583914,  0.000303866,  0.000046903,  0.191669218,  0.000057052,  0.000760046],\n",
       "       [ 0.044991562,  0.130061967,  0.03160068 ,  0.00029579 ,  0.007155024,  0.000106816],\n",
       "       [ 0.001893841,  0.002681291,  0.003410982,  0.00000119 ,  0.000389503,  0.136364221]])"
      ]
     },
     "execution_count": 62,
     "metadata": {},
     "output_type": "execute_result"
    }
   ],
   "source": [
    "nummodes = Psi_full.shape[1]\n",
    "MAC = np.zeros((nummodes, nummodes))\n",
    "if Psi_full.shape == Psi_2.shape:\n",
    "        for i in np.arange(nummodes):\n",
    "            for j in np.arange(nummodes):\n",
    "                MAC[i, j] = (abs(np.conj(Psi_full[:, i]) @ Psi_2[:, j])**2 /\n",
    "                             (np.conj(Psi_full[:, i]) @ Psi_full[:, i] *\n",
    "                              np.conj(Psi_2[:, j]) @ Psi_2[:, j]))\n",
    "else:\n",
    "        print('Mode shape arrays must have the same size.')\n",
    "MAC"
   ]
  },
  {
   "cell_type": "code",
   "execution_count": null,
   "metadata": {
    "collapsed": true
   },
   "outputs": [],
   "source": []
  },
  {
   "cell_type": "code",
   "execution_count": null,
   "metadata": {
    "collapsed": true
   },
   "outputs": [],
   "source": []
  }
 ],
 "metadata": {
  "hide_input": false,
  "kernelspec": {
   "display_name": "Python 3",
   "language": "python",
   "name": "python3"
  },
  "language_info": {
   "codemirror_mode": {
    "name": "ipython",
    "version": 3
   },
   "file_extension": ".py",
   "mimetype": "text/x-python",
   "name": "python",
   "nbconvert_exporter": "python",
   "pygments_lexer": "ipython3",
   "version": "3.5.2"
  },
  "nbTranslate": {
   "displayLangs": [
    "*"
   ],
   "hotkey": "alt-t",
   "langInMainMenu": true,
   "sourceLang": "en",
   "targetLang": "fr",
   "useGoogleTranslate": true
  },
  "toc": {
   "nav_menu": {},
   "number_sections": true,
   "sideBar": true,
   "skip_h1_title": false,
   "title_cell": "Table of Contents",
   "title_sidebar": "Contents",
   "toc_cell": false,
   "toc_position": {},
   "toc_section_display": true,
   "toc_window_display": false
  },
  "varInspector": {
   "cols": {
    "lenName": 16,
    "lenType": 16,
    "lenVar": 40
   },
   "kernels_config": {
    "python": {
     "delete_cmd_postfix": "",
     "delete_cmd_prefix": "del ",
     "library": "var_list.py",
     "varRefreshCmd": "print(var_dic_list())"
    },
    "r": {
     "delete_cmd_postfix": ") ",
     "delete_cmd_prefix": "rm(",
     "library": "var_list.r",
     "varRefreshCmd": "cat(var_dic_list()) "
    }
   },
   "types_to_exclude": [
    "module",
    "function",
    "builtin_function_or_method",
    "instance",
    "_Feature"
   ],
   "window_display": false
  }
 },
 "nbformat": 4,
 "nbformat_minor": 2
}
